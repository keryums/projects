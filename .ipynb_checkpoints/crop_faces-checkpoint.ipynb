{
 "cells": [
  {
   "cell_type": "markdown",
   "metadata": {},
   "source": [
    "This little chunk of code reads all images from `img_path`, identifies the face image, crops the image down to face boundary, and writes it out to `out_path`."
   ]
  },
  {
   "cell_type": "code",
   "execution_count": 27,
   "metadata": {
    "ExecuteTime": {
     "end_time": "2018-05-05T03:26:34.553129Z",
     "start_time": "2018-05-05T03:26:34.037558Z"
    }
   },
   "outputs": [],
   "source": [
    "import os\n",
    "import cv2\n",
    "\n",
    "img_path = '/fpath/raw_headshots/'\n",
    "out_path = '/fpath/cropped_headshots/'\n",
    "\n",
    "for f in os.listdir(img_path):\n",
    "    if f.endswith('png'):\n",
    "        fpath = os.path.join(img_path, f)\n",
    "        img = cv2.imread(fpath)\n",
    "        for i, face in enumerate(cascade.detectMultiScale(img)):\n",
    "            x, y, w, h = face\n",
    "            sub_face = img[y:y + h, x:x + w]\n",
    "            cv2.imwrite(os.path.join(out_path,f) , sub_face)\n",
    "        "
   ]
  },
  {
   "cell_type": "markdown",
   "metadata": {
    "ExecuteTime": {
     "end_time": "2018-05-05T03:36:29.281738Z",
     "start_time": "2018-05-05T03:36:29.268790Z"
    }
   },
   "source": [
    "Eg.  \n",
    "\n",
    "Raw image: ![Raw](rastablob_raw.jpg)"
   ]
  },
  {
   "cell_type": "markdown",
   "metadata": {
    "ExecuteTime": {
     "end_time": "2018-05-05T03:41:34.421256Z",
     "start_time": "2018-05-05T03:41:34.299824Z"
    }
   },
   "source": [
    "Cropped image: ![Cropped](rastablob_cropped.jpg)"
   ]
  }
 ],
 "metadata": {
  "kernelspec": {
   "display_name": "Python 2",
   "language": "python",
   "name": "python2"
  },
  "language_info": {
   "codemirror_mode": {
    "name": "ipython",
    "version": 2
   },
   "file_extension": ".py",
   "mimetype": "text/x-python",
   "name": "python",
   "nbconvert_exporter": "python",
   "pygments_lexer": "ipython2",
   "version": "2.7.14"
  },
  "toc": {
   "nav_menu": {},
   "number_sections": true,
   "sideBar": true,
   "skip_h1_title": false,
   "title_cell": "Table of Contents",
   "title_sidebar": "Contents",
   "toc_cell": false,
   "toc_position": {},
   "toc_section_display": true,
   "toc_window_display": false
  },
  "varInspector": {
   "cols": {
    "lenName": 16,
    "lenType": 16,
    "lenVar": 40
   },
   "kernels_config": {
    "python": {
     "delete_cmd_postfix": "",
     "delete_cmd_prefix": "del ",
     "library": "var_list.py",
     "varRefreshCmd": "print(var_dic_list())"
    },
    "r": {
     "delete_cmd_postfix": ") ",
     "delete_cmd_prefix": "rm(",
     "library": "var_list.r",
     "varRefreshCmd": "cat(var_dic_list()) "
    }
   },
   "types_to_exclude": [
    "module",
    "function",
    "builtin_function_or_method",
    "instance",
    "_Feature"
   ],
   "window_display": false
  }
 },
 "nbformat": 4,
 "nbformat_minor": 2
}
