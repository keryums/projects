{
 "cells": [
  {
   "cell_type": "code",
   "execution_count": 4,
   "metadata": {
    "ExecuteTime": {
     "end_time": "2019-01-18T19:08:41.789293Z",
     "start_time": "2019-01-18T19:08:41.755882Z"
    }
   },
   "outputs": [],
   "source": [
    "import sys\n",
    "sys.path.insert(0, '/Users/kerong/')\n",
    "from helper import *\n",
    "\n",
    "import warnings\n",
    "warnings.filterwarnings(\"ignore\")\n",
    "\n",
    "import os\n",
    "import glob\n",
    "import pandas as pd\n",
    "import numpy as np\n",
    "\n",
    "import matplotlib.pyplot as plt\n",
    "import seaborn as sns\n",
    "\n",
    "import plotly.plotly as py\n",
    "import plotly\n",
    "plotly.tools.set_credentials_file(username='keryums', api_key='G5YsVJOebOZh0nhwk44q')\n",
    "\n",
    "import numpy as np\n",
    "from statsmodels.stats.proportion import proportions_ztest"
   ]
  },
  {
   "cell_type": "code",
   "execution_count": 6,
   "metadata": {
    "ExecuteTime": {
     "end_time": "2019-01-18T19:10:17.322053Z",
     "start_time": "2019-01-18T19:10:17.316376Z"
    }
   },
   "outputs": [
    {
     "name": "stdout",
     "output_type": "stream",
     "text": [
      "/Users/kerong/data/veteran_suicide/data_out/state_by_age_wide_20190117_1624.csv\n",
      "/Users/kerong/data/veteran_suicide/data_out/va_spend_2016_20190117_1650.csv\n",
      "/Users/kerong/data/veteran_suicide/data_out/state_by_method_20190117_1648.csv\n",
      "/Users/kerong/data/veteran_suicide/data_out/state_by_sex_wide_20190117_1620.csv\n"
     ]
    }
   ],
   "source": [
    "data_filepath = '/Users/kerong/data/veteran_suicide/data_out/'\n",
    "\n",
    "for filename in glob.glob(os.path.join(data_filepath, '*.csv')):\n",
    "    print(filename)"
   ]
  },
  {
   "cell_type": "code",
   "execution_count": 46,
   "metadata": {
    "ExecuteTime": {
     "end_time": "2019-01-18T20:56:02.064810Z",
     "start_time": "2019-01-18T20:56:02.031001Z"
    }
   },
   "outputs": [],
   "source": [
    "state_by_age = pd.read_csv('/Users/kerong/data/veteran_suicide/data_out/state_by_age_wide_20190117_1624.csv')\n",
    "state_by_sex = pd.read_csv('/Users/kerong/data/veteran_suicide/data_out/state_by_sex_wide_20190117_1620.csv')\n",
    "state_by_method = pd.read_csv('/Users/kerong/data/veteran_suicide/data_out/state_by_method_20190117_1648.csv')"
   ]
  },
  {
   "cell_type": "code",
   "execution_count": 55,
   "metadata": {
    "ExecuteTime": {
     "end_time": "2019-01-18T20:59:02.048030Z",
     "start_time": "2019-01-18T20:59:02.035127Z"
    }
   },
   "outputs": [
    {
     "data": {
      "text/html": [
       "<div>\n",
       "<style scoped>\n",
       "    .dataframe tbody tr th:only-of-type {\n",
       "        vertical-align: middle;\n",
       "    }\n",
       "\n",
       "    .dataframe tbody tr th {\n",
       "        vertical-align: top;\n",
       "    }\n",
       "\n",
       "    .dataframe thead th {\n",
       "        text-align: right;\n",
       "    }\n",
       "</style>\n",
       "<table border=\"1\" class=\"dataframe\">\n",
       "  <thead>\n",
       "    <tr style=\"text-align: right;\">\n",
       "      <th></th>\n",
       "      <th>geographic_region</th>\n",
       "      <th>state_of_death</th>\n",
       "      <th>sex</th>\n",
       "      <th>veteran_suicides</th>\n",
       "      <th>year</th>\n",
       "      <th>suicides_point_est</th>\n",
       "      <th>gender_code</th>\n",
       "      <th>state_code</th>\n",
       "      <th>gender</th>\n",
       "      <th>state</th>\n",
       "      <th>veterans</th>\n",
       "    </tr>\n",
       "  </thead>\n",
       "  <tbody>\n",
       "    <tr>\n",
       "      <th>48</th>\n",
       "      <td>South</td>\n",
       "      <td>District of Columbia</td>\n",
       "      <td>Male</td>\n",
       "      <td>&lt;10</td>\n",
       "      <td>2016</td>\n",
       "      <td>0.0</td>\n",
       "      <td>M</td>\n",
       "      <td>dc</td>\n",
       "      <td>M</td>\n",
       "      <td>District of Columbia</td>\n",
       "      <td>577695.0</td>\n",
       "    </tr>\n",
       "    <tr>\n",
       "      <th>49</th>\n",
       "      <td>South</td>\n",
       "      <td>District of Columbia</td>\n",
       "      <td>Female</td>\n",
       "      <td>&lt;10</td>\n",
       "      <td>2016</td>\n",
       "      <td>0.0</td>\n",
       "      <td>F</td>\n",
       "      <td>dc</td>\n",
       "      <td>F</td>\n",
       "      <td>District of Columbia</td>\n",
       "      <td>98580.0</td>\n",
       "    </tr>\n",
       "  </tbody>\n",
       "</table>\n",
       "</div>"
      ],
      "text/plain": [
       "   geographic_region        state_of_death     sex veteran_suicides  year  \\\n",
       "48             South  District of Columbia    Male              <10  2016   \n",
       "49             South  District of Columbia  Female              <10  2016   \n",
       "\n",
       "    suicides_point_est gender_code state_code gender                 state  \\\n",
       "48                 0.0           M         dc      M  District of Columbia   \n",
       "49                 0.0           F         dc      F  District of Columbia   \n",
       "\n",
       "    veterans  \n",
       "48  577695.0  \n",
       "49   98580.0  "
      ]
     },
     "execution_count": 55,
     "metadata": {},
     "output_type": "execute_result"
    }
   ],
   "source": [
    "state_by_sex[state_by_sex.state_of_death =='District of Columbia']"
   ]
  },
  {
   "cell_type": "markdown",
   "metadata": {},
   "source": [
    "# Suicides by Sex"
   ]
  },
  {
   "cell_type": "markdown",
   "metadata": {},
   "source": [
    "## Comparison of Rates"
   ]
  },
  {
   "cell_type": "markdown",
   "metadata": {},
   "source": [
    "Since each 10 count bin is indicated by its lower bound, let's estimate a point estimate for each state using the bin's mean/median."
   ]
  },
  {
   "cell_type": "code",
   "execution_count": 180,
   "metadata": {
    "ExecuteTime": {
     "end_time": "2019-01-17T23:03:51.583269Z",
     "start_time": "2019-01-17T23:03:51.554923Z"
    },
    "scrolled": true
   },
   "outputs": [
    {
     "data": {
      "text/html": [
       "<div>\n",
       "<style scoped>\n",
       "    .dataframe tbody tr th:only-of-type {\n",
       "        vertical-align: middle;\n",
       "    }\n",
       "\n",
       "    .dataframe tbody tr th {\n",
       "        vertical-align: top;\n",
       "    }\n",
       "\n",
       "    .dataframe thead th {\n",
       "        text-align: right;\n",
       "    }\n",
       "</style>\n",
       "<table border=\"1\" class=\"dataframe\">\n",
       "  <thead>\n",
       "    <tr style=\"text-align: right;\">\n",
       "      <th></th>\n",
       "      <th>sex</th>\n",
       "      <th>suicides_point_est</th>\n",
       "    </tr>\n",
       "  </thead>\n",
       "  <tbody>\n",
       "    <tr>\n",
       "      <th>0</th>\n",
       "      <td>Female</td>\n",
       "      <td>106.0</td>\n",
       "    </tr>\n",
       "    <tr>\n",
       "      <th>1</th>\n",
       "      <td>Male</td>\n",
       "      <td>5779.0</td>\n",
       "    </tr>\n",
       "  </tbody>\n",
       "</table>\n",
       "</div>"
      ],
      "text/plain": [
       "      sex  suicides_point_est\n",
       "0  Female               106.0\n",
       "1    Male              5779.0"
      ]
     },
     "execution_count": 180,
     "metadata": {},
     "output_type": "execute_result"
    }
   ],
   "source": [
    "suicides_by_sex = state_by_sex.groupby('sex')['suicides_point_est'].sum().reset_index()\n",
    "suicides_by_sex"
   ]
  },
  {
   "cell_type": "code",
   "execution_count": 181,
   "metadata": {
    "ExecuteTime": {
     "end_time": "2019-01-17T23:08:17.249554Z",
     "start_time": "2019-01-17T23:08:17.063084Z"
    },
    "scrolled": false
   },
   "outputs": [
    {
     "data": {
      "image/png": "[encoded data removed]",
      "text/plain": [
       "<Figure size 432x288 with 1 Axes>"
      ]
     },
     "metadata": {
      "needs_background": "light"
     },
     "output_type": "display_data"
    }
   ],
   "source": [
    "suicides_by_sex.sort_values(by='sex', ascending=False, inplace=True) #sort for plotting \n",
    "ax = sns.barplot(x='sex', y='suicides_point_est', data = suicides_by_sex[~(suicides_by_sex.sex=='Total')])\n",
    "ax.set_title('Veteran Suicides by Sex')\n",
    "ax.set_xlabel('Sex')\n",
    "ax.set_ylabel('Estimated Suicides')\n",
    "plt.show()"
   ]
  },
  {
   "cell_type": "markdown",
   "metadata": {
    "ExecuteTime": {
     "end_time": "2019-01-10T16:48:13.398625Z",
     "start_time": "2019-01-10T16:48:13.395537Z"
    }
   },
   "source": [
    "__Notice the disparity in suicides by gender. Is this wholly explicable by differences in the number of male and female veterans?__\n",
    "\n",
    "As the VA did not publish suicide rates by gender (unlike it does for the other attributes, age and suicide method), let's calculate this by pulling in a veteran population table. We consider population figures as of September 2015 since this is the population from which suicides in 2016 occurred. "
   ]
  },
  {
   "cell_type": "code",
   "execution_count": 187,
   "metadata": {
    "ExecuteTime": {
     "end_time": "2019-01-17T23:09:15.090073Z",
     "start_time": "2019-01-17T23:09:15.080285Z"
    }
   },
   "outputs": [
    {
     "data": {
      "text/html": [
       "<div>\n",
       "<style scoped>\n",
       "    .dataframe tbody tr th:only-of-type {\n",
       "        vertical-align: middle;\n",
       "    }\n",
       "\n",
       "    .dataframe tbody tr th {\n",
       "        vertical-align: top;\n",
       "    }\n",
       "\n",
       "    .dataframe thead th {\n",
       "        text-align: right;\n",
       "    }\n",
       "</style>\n",
       "<table border=\"1\" class=\"dataframe\">\n",
       "  <thead>\n",
       "    <tr style=\"text-align: right;\">\n",
       "      <th></th>\n",
       "      <th>sex</th>\n",
       "      <th>veterans</th>\n",
       "    </tr>\n",
       "  </thead>\n",
       "  <tbody>\n",
       "    <tr>\n",
       "      <th>0</th>\n",
       "      <td>Female</td>\n",
       "      <td>63642419.0</td>\n",
       "    </tr>\n",
       "    <tr>\n",
       "      <th>1</th>\n",
       "      <td>Male</td>\n",
       "      <td>421985510.0</td>\n",
       "    </tr>\n",
       "  </tbody>\n",
       "</table>\n",
       "</div>"
      ],
      "text/plain": [
       "      sex     veterans\n",
       "0  Female   63642419.0\n",
       "1    Male  421985510.0"
      ]
     },
     "execution_count": 187,
     "metadata": {},
     "output_type": "execute_result"
    }
   ],
   "source": [
    "total_by_sex = state_by_sex.groupby('sex')['veterans'].sum().reset_index()\n",
    "total_by_sex"
   ]
  },
  {
   "cell_type": "code",
   "execution_count": 183,
   "metadata": {
    "ExecuteTime": {
     "end_time": "2019-01-17T23:08:19.487599Z",
     "start_time": "2019-01-17T23:08:19.366792Z"
    },
    "scrolled": true
   },
   "outputs": [
    {
     "data": {
      "image/png": "[encoded data removed]",
      "text/plain": [
       "<Figure size 432x288 with 1 Axes>"
      ]
     },
     "metadata": {
      "needs_background": "light"
     },
     "output_type": "display_data"
    }
   ],
   "source": [
    "total_by_sex.sort_values(by='sex', ascending=False, inplace=True) #sort for plotting \n",
    "ax = sns.barplot(x='sex', y='veterans', data = total_by_sex)\n",
    "ax.set_title('Total Veterans by Sex')\n",
    "ax.set_xlabel('Sex')\n",
    "ax.set_ylabel('Number of Veterans')\n",
    "plt.show()"
   ]
  },
  {
   "cell_type": "markdown",
   "metadata": {
    "ExecuteTime": {
     "end_time": "2019-01-14T18:03:46.238435Z",
     "start_time": "2019-01-14T18:03:46.234666Z"
    }
   },
   "source": [
    "__Is the proportion the same?__"
   ]
  },
  {
   "cell_type": "code",
   "execution_count": 184,
   "metadata": {
    "ExecuteTime": {
     "end_time": "2019-01-17T23:08:21.609671Z",
     "start_time": "2019-01-17T23:08:21.595098Z"
    },
    "scrolled": true
   },
   "outputs": [],
   "source": [
    "counts_by_sex = state_by_sex.groupby('sex')[['suicides_point_est', 'veterans']].sum().reset_index()\n",
    "rate_by_sex = counts_by_sex[['suicides_point_est', 'veterans']].apply(lambda x: x[0]/x[1], axis=1).reset_index()\n",
    "sex_map = {0:'female',1:'male'} \n",
    "rate_by_sex.replace({'index': sex_map}, inplace=True)\n",
    "rate_by_sex.rename(columns = {'index':'sex', 0:'rate'}, inplace=True)"
   ]
  },
  {
   "cell_type": "code",
   "execution_count": 185,
   "metadata": {
    "ExecuteTime": {
     "end_time": "2019-01-17T23:08:21.949566Z",
     "start_time": "2019-01-17T23:08:21.943062Z"
    }
   },
   "outputs": [
    {
     "data": {
      "text/html": [
       "<div>\n",
       "<style scoped>\n",
       "    .dataframe tbody tr th:only-of-type {\n",
       "        vertical-align: middle;\n",
       "    }\n",
       "\n",
       "    .dataframe tbody tr th {\n",
       "        vertical-align: top;\n",
       "    }\n",
       "\n",
       "    .dataframe thead th {\n",
       "        text-align: right;\n",
       "    }\n",
       "</style>\n",
       "<table border=\"1\" class=\"dataframe\">\n",
       "  <thead>\n",
       "    <tr style=\"text-align: right;\">\n",
       "      <th></th>\n",
       "      <th>sex</th>\n",
       "      <th>rate</th>\n",
       "    </tr>\n",
       "  </thead>\n",
       "  <tbody>\n",
       "    <tr>\n",
       "      <th>0</th>\n",
       "      <td>female</td>\n",
       "      <td>0.000002</td>\n",
       "    </tr>\n",
       "    <tr>\n",
       "      <th>1</th>\n",
       "      <td>male</td>\n",
       "      <td>0.000014</td>\n",
       "    </tr>\n",
       "  </tbody>\n",
       "</table>\n",
       "</div>"
      ],
      "text/plain": [
       "      sex      rate\n",
       "0  female  0.000002\n",
       "1    male  0.000014"
      ]
     },
     "execution_count": 185,
     "metadata": {},
     "output_type": "execute_result"
    }
   ],
   "source": [
    "rate_by_sex"
   ]
  },
  {
   "cell_type": "code",
   "execution_count": 186,
   "metadata": {
    "ExecuteTime": {
     "end_time": "2019-01-17T23:08:22.734140Z",
     "start_time": "2019-01-17T23:08:22.620553Z"
    },
    "scrolled": true
   },
   "outputs": [
    {
     "data": {
      "image/png": "[encoded data removed]",
      "text/plain": [
       "<Figure size 432x288 with 1 Axes>"
      ]
     },
     "metadata": {
      "needs_background": "light"
     },
     "output_type": "display_data"
    }
   ],
   "source": [
    "rate_by_sex.sort_values(by='sex', ascending=False, inplace=True) #sort for plotting \n",
    "ax = sns.barplot(x='sex', y='rate', data = rate_by_sex)\n",
    "ax.set_title('Suicide Rate by Sex')\n",
    "ax.set_xlabel('Sex')\n",
    "ax.set_ylabel('Suicide Rate')\n",
    "plt.show()"
   ]
  },
  {
   "cell_type": "markdown",
   "metadata": {
    "ExecuteTime": {
     "end_time": "2019-01-10T22:21:28.859505Z",
     "start_time": "2019-01-10T22:21:28.855027Z"
    }
   },
   "source": [
    "The chart above shows a different in rates of suicide between male and female veterans. Let's formalize this with a test of proportions to see if the difference in rates are statistically significantly."
   ]
  },
  {
   "cell_type": "code",
   "execution_count": 190,
   "metadata": {
    "ExecuteTime": {
     "end_time": "2019-01-17T23:11:11.839501Z",
     "start_time": "2019-01-17T23:11:11.835584Z"
    }
   },
   "outputs": [
    {
     "name": "stdout",
     "output_type": "stream",
     "text": [
      "p-value of test: 0.000\n"
     ]
    }
   ],
   "source": [
    "count = np.array(counts_by_sex.suicides_point_est)\n",
    "nobs = np.array(counts_by_sex.veterans)\n",
    "stat, pval = proportions_ztest(count,nobs)\n",
    "\n",
    "print('p-value of test: {0:0.3f}'.format(pval))"
   ]
  },
  {
   "cell_type": "markdown",
   "metadata": {},
   "source": [
    "According to our statistical test, we fail to reject the hypothesis that there is a significant difference between rates of suicide for male and female veterans. We can extrapolate from this that gender is a differentiating factor in suicide occurrence."
   ]
  },
  {
   "cell_type": "markdown",
   "metadata": {},
   "source": [
    "## Map of Rates"
   ]
  },
  {
   "cell_type": "code",
   "execution_count": 57,
   "metadata": {
    "ExecuteTime": {
     "end_time": "2019-01-18T21:04:59.478141Z",
     "start_time": "2019-01-18T21:04:59.474404Z"
    }
   },
   "outputs": [],
   "source": [
    "state_by_sex = state_by_sex[~(state_by_sex.state_code=='dc')] #DC can't be plotted on a state map"
   ]
  },
  {
   "cell_type": "code",
   "execution_count": 63,
   "metadata": {
    "ExecuteTime": {
     "end_time": "2019-01-18T21:05:30.271314Z",
     "start_time": "2019-01-18T21:05:30.210491Z"
    },
    "scrolled": true
   },
   "outputs": [],
   "source": [
    "# suicide rate per state\n",
    "state_by_sex['suicide_rate']=state_by_sex[['suicides_point_est', 'veterans']].apply(lambda x: x[0]/x[1], axis=1)"
   ]
  },
  {
   "cell_type": "code",
   "execution_count": 64,
   "metadata": {
    "ExecuteTime": {
     "end_time": "2019-01-18T21:05:30.417828Z",
     "start_time": "2019-01-18T21:05:30.410672Z"
    }
   },
   "outputs": [],
   "source": [
    "state_rates=state_by_sex.groupby('state_code')[['suicides_point_est', 'veterans']].sum().reset_index()"
   ]
  },
  {
   "cell_type": "code",
   "execution_count": 65,
   "metadata": {
    "ExecuteTime": {
     "end_time": "2019-01-18T21:05:30.692077Z",
     "start_time": "2019-01-18T21:05:30.624625Z"
    }
   },
   "outputs": [],
   "source": [
    "state_rates['suicide_rate'] = state_rates.suicides_point_est/state_rates.veterans"
   ]
  },
  {
   "cell_type": "code",
   "execution_count": 66,
   "metadata": {
    "ExecuteTime": {
     "end_time": "2019-01-18T21:05:30.966641Z",
     "start_time": "2019-01-18T21:05:30.962097Z"
    }
   },
   "outputs": [],
   "source": [
    "data = [ dict(type='choropleth',\n",
    "              colorscale='Viridis',\n",
    "              autocolorscale=False,\n",
    "              locations=state_rates['state_code'],\n",
    "              z=state_rates['suicide_rate'],\n",
    "              locationmode = 'USA-states'\n",
    "             )\n",
    "       ]\n",
    "\n",
    "layout = dict(title = 'Plot of Suicide Rates by State ',\n",
    "             geo = dict(scope='usa',\n",
    "                       projection=dict(type='albers usa'),\n",
    "                       showlakes=True,\n",
    "                       lakecolor='rgb(255,255,255)'))\n",
    "\n",
    "fig = dict(data=data, layout=layout)"
   ]
  },
  {
   "cell_type": "code",
   "execution_count": 67,
   "metadata": {
    "ExecuteTime": {
     "end_time": "2019-01-18T21:05:33.499703Z",
     "start_time": "2019-01-18T21:05:31.402210Z"
    }
   },
   "outputs": [
    {
     "name": "stdout",
     "output_type": "stream",
     "text": [
      "High five! You successfully sent some data to your account on plotly. View your plot in your browser at https://plot.ly/~keryums/0 or inside your plot.ly account where it is named 'd3-choropleth-map'\n"
     ]
    },
    {
     "data": {
      "text/html": [
       "<iframe id=\"igraph\" scrolling=\"no\" style=\"border:none;\" seamless=\"seamless\" src=\"https://plot.ly/~keryums/0.embed\" height=\"525px\" width=\"100%\"></iframe>"
      ],
      "text/plain": [
       "<plotly.tools.PlotlyDisplay object>"
      ]
     },
     "execution_count": 67,
     "metadata": {},
     "output_type": "execute_result"
    }
   ],
   "source": [
    "py.iplot(fig, filename='d3-choropleth-map')"
   ]
  },
  {
   "cell_type": "markdown",
   "metadata": {},
   "source": [
    "Vermont has the highest suicide rate of .0025%, 1.3% higher than the next highest states Montana, Nevada, and Wyoming, which each come in at 0.0019%. Notice that the western US generally has higher rates than the eastern US. Could higher rates be associated with worse VA facilities in those areas? \n",
    "\n",
    "Let's analyze some VA expenditure data:"
   ]
  },
  {
   "cell_type": "markdown",
   "metadata": {},
   "source": [
    "## Expenditure Data"
   ]
  },
  {
   "cell_type": "markdown",
   "metadata": {},
   "source": [
    "Descriptions of the columns in this dataset can be found [here](https://www.va.gov/VETDATA/docs/GDX/GDX_Readme.pdf). \n",
    "\n",
    "Columns we think are relevant to suicide are: \n",
    "- Education and Vocational Rehabilitation and Employment \n",
    "- Medical Care\n",
    "\n",
    "Note, `unique_patients` may include a small number of non-veteran patients treated at a VA facility. We have to work off the assumption this number is small enough to be negligible."
   ]
  },
  {
   "cell_type": "code",
   "execution_count": 24,
   "metadata": {
    "ExecuteTime": {
     "end_time": "2019-01-18T20:49:48.254730Z",
     "start_time": "2019-01-18T20:49:48.249005Z"
    }
   },
   "outputs": [],
   "source": [
    "va_spend_2016 = pd.read_csv(data_filepath+'va_spend_2016_20190118_1449.csv')"
   ]
  },
  {
   "cell_type": "markdown",
   "metadata": {},
   "source": [
    "Let's normalize total expenditure by number of patients:"
   ]
  },
  {
   "cell_type": "code",
   "execution_count": 36,
   "metadata": {
    "ExecuteTime": {
     "end_time": "2019-01-18T20:52:54.316390Z",
     "start_time": "2019-01-18T20:52:54.309142Z"
    }
   },
   "outputs": [],
   "source": [
    "va_spend_2016['rehab_medical_per_patient'] = va_spend_2016[['education_&_vocational_rehabilitation_employment', 'medical_care', 'unique_patients']].apply(lambda x: round((x[0]+x[1])/x[2],2), axis=1)"
   ]
  },
  {
   "cell_type": "code",
   "execution_count": 68,
   "metadata": {
    "ExecuteTime": {
     "end_time": "2019-01-18T21:06:10.432614Z",
     "start_time": "2019-01-18T21:06:10.428992Z"
    }
   },
   "outputs": [],
   "source": [
    "va_spend_2016 = va_spend_2016[~(va_spend_2016.state_code=='dc')] #DC can't be plotted on a state map"
   ]
  },
  {
   "cell_type": "code",
   "execution_count": 69,
   "metadata": {
    "ExecuteTime": {
     "end_time": "2019-01-18T21:06:12.908416Z",
     "start_time": "2019-01-18T21:06:12.904182Z"
    }
   },
   "outputs": [],
   "source": [
    "data = [ dict(type='choropleth',\n",
    "              colorscale='Viridis',\n",
    "              autocolorscale=False,\n",
    "              locations=va_spend_2016['state_code'],\n",
    "              z=va_spend_2016['rehab_medical_per_patient'],\n",
    "              locationmode = 'USA-states'\n",
    "             )\n",
    "       ]\n",
    "\n",
    "layout = dict(title = 'Plot of VA Spend by State ',\n",
    "             geo = dict(scope='usa',\n",
    "                       projection=dict(type='albers usa'),\n",
    "                       showlakes=True,\n",
    "                       lakecolor='rgb(255,255,255)'))\n",
    "\n",
    "fig = dict(data=data, layout=layout)"
   ]
  },
  {
   "cell_type": "code",
   "execution_count": 70,
   "metadata": {
    "ExecuteTime": {
     "end_time": "2019-01-18T21:06:14.614105Z",
     "start_time": "2019-01-18T21:06:13.083500Z"
    }
   },
   "outputs": [
    {
     "name": "stdout",
     "output_type": "stream",
     "text": [
      "High five! You successfully sent some data to your account on plotly. View your plot in your browser at https://plot.ly/~keryums/0 or inside your plot.ly account where it is named 'd3-choropleth-map'\n"
     ]
    },
    {
     "data": {
      "text/html": [
       "<iframe id=\"igraph\" scrolling=\"no\" style=\"border:none;\" seamless=\"seamless\" src=\"https://plot.ly/~keryums/0.embed\" height=\"525px\" width=\"100%\"></iframe>"
      ],
      "text/plain": [
       "<plotly.tools.PlotlyDisplay object>"
      ]
     },
     "execution_count": 70,
     "metadata": {},
     "output_type": "execute_result"
    }
   ],
   "source": [
    "py.iplot(fig, filename='d3-choropleth-map')"
   ]
  },
  {
   "cell_type": "markdown",
   "metadata": {},
   "source": [
    "Notice that Vermont has one of the lower spend per patients amongst the states despite its high suicide rate. California, Alaska, Maryland and Virginia, and Massachussets have higher spend per patients. Hawaii and Alaska both have high spend per patients and low suicide rates. \n",
    "\n",
    "Can we quantify this relationship between suicide rate and spend? "
   ]
  },
  {
   "cell_type": "markdown",
   "metadata": {},
   "source": [
    "# Correlation Matrix \n",
    "\n",
    "of state suicide rates and va expenditure "
   ]
  },
  {
   "cell_type": "code",
   "execution_count": 71,
   "metadata": {
    "ExecuteTime": {
     "end_time": "2019-01-18T21:22:38.044293Z",
     "start_time": "2019-01-18T21:22:38.029050Z"
    },
    "collapsed": true
   },
   "outputs": [
    {
     "data": {
      "text/html": [
       "<div>\n",
       "<style scoped>\n",
       "    .dataframe tbody tr th:only-of-type {\n",
       "        vertical-align: middle;\n",
       "    }\n",
       "\n",
       "    .dataframe tbody tr th {\n",
       "        vertical-align: top;\n",
       "    }\n",
       "\n",
       "    .dataframe thead th {\n",
       "        text-align: right;\n",
       "    }\n",
       "</style>\n",
       "<table border=\"1\" class=\"dataframe\">\n",
       "  <thead>\n",
       "    <tr style=\"text-align: right;\">\n",
       "      <th></th>\n",
       "      <th>state_code</th>\n",
       "      <th>suicides_point_est</th>\n",
       "      <th>veterans</th>\n",
       "      <th>suicide_rate</th>\n",
       "    </tr>\n",
       "  </thead>\n",
       "  <tbody>\n",
       "    <tr>\n",
       "      <th>0</th>\n",
       "      <td>AK</td>\n",
       "      <td>14.5</td>\n",
       "      <td>2129484.0</td>\n",
       "      <td>0.000007</td>\n",
       "    </tr>\n",
       "    <tr>\n",
       "      <th>1</th>\n",
       "      <td>AL</td>\n",
       "      <td>124.5</td>\n",
       "      <td>9785383.0</td>\n",
       "      <td>0.000013</td>\n",
       "    </tr>\n",
       "    <tr>\n",
       "      <th>2</th>\n",
       "      <td>AR</td>\n",
       "      <td>74.5</td>\n",
       "      <td>5701920.0</td>\n",
       "      <td>0.000013</td>\n",
       "    </tr>\n",
       "    <tr>\n",
       "      <th>3</th>\n",
       "      <td>AZ</td>\n",
       "      <td>227.0</td>\n",
       "      <td>13140797.0</td>\n",
       "      <td>0.000017</td>\n",
       "    </tr>\n",
       "    <tr>\n",
       "      <th>4</th>\n",
       "      <td>CA</td>\n",
       "      <td>490.0</td>\n",
       "      <td>37581646.0</td>\n",
       "      <td>0.000013</td>\n",
       "    </tr>\n",
       "    <tr>\n",
       "      <th>5</th>\n",
       "      <td>CO</td>\n",
       "      <td>164.5</td>\n",
       "      <td>10577108.0</td>\n",
       "      <td>0.000016</td>\n",
       "    </tr>\n",
       "    <tr>\n",
       "      <th>6</th>\n",
       "      <td>CT</td>\n",
       "      <td>34.5</td>\n",
       "      <td>3773600.0</td>\n",
       "      <td>0.000009</td>\n",
       "    </tr>\n",
       "    <tr>\n",
       "      <th>7</th>\n",
       "      <td>DE</td>\n",
       "      <td>24.5</td>\n",
       "      <td>1792098.0</td>\n",
       "      <td>0.000014</td>\n",
       "    </tr>\n",
       "    <tr>\n",
       "      <th>8</th>\n",
       "      <td>FL</td>\n",
       "      <td>530.0</td>\n",
       "      <td>36378552.0</td>\n",
       "      <td>0.000015</td>\n",
       "    </tr>\n",
       "    <tr>\n",
       "      <th>9</th>\n",
       "      <td>GA</td>\n",
       "      <td>194.5</td>\n",
       "      <td>19604883.0</td>\n",
       "      <td>0.000010</td>\n",
       "    </tr>\n",
       "    <tr>\n",
       "      <th>10</th>\n",
       "      <td>HI</td>\n",
       "      <td>4.5</td>\n",
       "      <td>3215638.0</td>\n",
       "      <td>0.000001</td>\n",
       "    </tr>\n",
       "    <tr>\n",
       "      <th>11</th>\n",
       "      <td>IA</td>\n",
       "      <td>64.5</td>\n",
       "      <td>4807028.0</td>\n",
       "      <td>0.000013</td>\n",
       "    </tr>\n",
       "    <tr>\n",
       "      <th>12</th>\n",
       "      <td>ID</td>\n",
       "      <td>54.5</td>\n",
       "      <td>3318929.0</td>\n",
       "      <td>0.000016</td>\n",
       "    </tr>\n",
       "    <tr>\n",
       "      <th>13</th>\n",
       "      <td>IL</td>\n",
       "      <td>154.5</td>\n",
       "      <td>13849542.0</td>\n",
       "      <td>0.000011</td>\n",
       "    </tr>\n",
       "    <tr>\n",
       "      <th>14</th>\n",
       "      <td>IN</td>\n",
       "      <td>64.5</td>\n",
       "      <td>9691647.0</td>\n",
       "      <td>0.000007</td>\n",
       "    </tr>\n",
       "    <tr>\n",
       "      <th>15</th>\n",
       "      <td>KS</td>\n",
       "      <td>54.5</td>\n",
       "      <td>5039500.0</td>\n",
       "      <td>0.000011</td>\n",
       "    </tr>\n",
       "    <tr>\n",
       "      <th>16</th>\n",
       "      <td>KY</td>\n",
       "      <td>104.5</td>\n",
       "      <td>7548611.0</td>\n",
       "      <td>0.000014</td>\n",
       "    </tr>\n",
       "    <tr>\n",
       "      <th>17</th>\n",
       "      <td>LA</td>\n",
       "      <td>74.5</td>\n",
       "      <td>7480834.0</td>\n",
       "      <td>0.000010</td>\n",
       "    </tr>\n",
       "    <tr>\n",
       "      <th>18</th>\n",
       "      <td>MA</td>\n",
       "      <td>64.5</td>\n",
       "      <td>6492973.0</td>\n",
       "      <td>0.000010</td>\n",
       "    </tr>\n",
       "    <tr>\n",
       "      <th>19</th>\n",
       "      <td>MD</td>\n",
       "      <td>64.5</td>\n",
       "      <td>9103622.0</td>\n",
       "      <td>0.000007</td>\n",
       "    </tr>\n",
       "    <tr>\n",
       "      <th>20</th>\n",
       "      <td>ME</td>\n",
       "      <td>24.5</td>\n",
       "      <td>2609423.0</td>\n",
       "      <td>0.000009</td>\n",
       "    </tr>\n",
       "    <tr>\n",
       "      <th>21</th>\n",
       "      <td>MI</td>\n",
       "      <td>154.5</td>\n",
       "      <td>12338624.0</td>\n",
       "      <td>0.000013</td>\n",
       "    </tr>\n",
       "    <tr>\n",
       "      <th>22</th>\n",
       "      <td>MN</td>\n",
       "      <td>94.5</td>\n",
       "      <td>7165246.0</td>\n",
       "      <td>0.000013</td>\n",
       "    </tr>\n",
       "    <tr>\n",
       "      <th>23</th>\n",
       "      <td>MO</td>\n",
       "      <td>144.5</td>\n",
       "      <td>10778555.0</td>\n",
       "      <td>0.000013</td>\n",
       "    </tr>\n",
       "    <tr>\n",
       "      <th>24</th>\n",
       "      <td>MS</td>\n",
       "      <td>44.5</td>\n",
       "      <td>5099046.0</td>\n",
       "      <td>0.000009</td>\n",
       "    </tr>\n",
       "    <tr>\n",
       "      <th>25</th>\n",
       "      <td>MT</td>\n",
       "      <td>44.5</td>\n",
       "      <td>2385472.0</td>\n",
       "      <td>0.000019</td>\n",
       "    </tr>\n",
       "    <tr>\n",
       "      <th>26</th>\n",
       "      <td>NC</td>\n",
       "      <td>184.0</td>\n",
       "      <td>20889376.0</td>\n",
       "      <td>0.000009</td>\n",
       "    </tr>\n",
       "    <tr>\n",
       "      <th>27</th>\n",
       "      <td>ND</td>\n",
       "      <td>14.5</td>\n",
       "      <td>1441249.0</td>\n",
       "      <td>0.000010</td>\n",
       "    </tr>\n",
       "    <tr>\n",
       "      <th>28</th>\n",
       "      <td>NE</td>\n",
       "      <td>24.5</td>\n",
       "      <td>3120956.0</td>\n",
       "      <td>0.000008</td>\n",
       "    </tr>\n",
       "    <tr>\n",
       "      <th>29</th>\n",
       "      <td>NH</td>\n",
       "      <td>34.5</td>\n",
       "      <td>2373081.0</td>\n",
       "      <td>0.000015</td>\n",
       "    </tr>\n",
       "    <tr>\n",
       "      <th>30</th>\n",
       "      <td>NJ</td>\n",
       "      <td>64.5</td>\n",
       "      <td>6942664.0</td>\n",
       "      <td>0.000009</td>\n",
       "    </tr>\n",
       "    <tr>\n",
       "      <th>31</th>\n",
       "      <td>NM</td>\n",
       "      <td>64.5</td>\n",
       "      <td>4077429.0</td>\n",
       "      <td>0.000016</td>\n",
       "    </tr>\n",
       "    <tr>\n",
       "      <th>32</th>\n",
       "      <td>NV</td>\n",
       "      <td>104.5</td>\n",
       "      <td>5611531.0</td>\n",
       "      <td>0.000019</td>\n",
       "    </tr>\n",
       "    <tr>\n",
       "      <th>33</th>\n",
       "      <td>NY</td>\n",
       "      <td>144.5</td>\n",
       "      <td>16036233.0</td>\n",
       "      <td>0.000009</td>\n",
       "    </tr>\n",
       "    <tr>\n",
       "      <th>34</th>\n",
       "      <td>OH</td>\n",
       "      <td>234.5</td>\n",
       "      <td>17179805.0</td>\n",
       "      <td>0.000014</td>\n",
       "    </tr>\n",
       "    <tr>\n",
       "      <th>35</th>\n",
       "      <td>OK</td>\n",
       "      <td>104.5</td>\n",
       "      <td>8100141.0</td>\n",
       "      <td>0.000013</td>\n",
       "    </tr>\n",
       "    <tr>\n",
       "      <th>36</th>\n",
       "      <td>OR</td>\n",
       "      <td>114.5</td>\n",
       "      <td>7050019.0</td>\n",
       "      <td>0.000016</td>\n",
       "    </tr>\n",
       "    <tr>\n",
       "      <th>37</th>\n",
       "      <td>PA</td>\n",
       "      <td>254.5</td>\n",
       "      <td>17515970.0</td>\n",
       "      <td>0.000015</td>\n",
       "    </tr>\n",
       "    <tr>\n",
       "      <th>38</th>\n",
       "      <td>RI</td>\n",
       "      <td>14.5</td>\n",
       "      <td>1343256.0</td>\n",
       "      <td>0.000011</td>\n",
       "    </tr>\n",
       "    <tr>\n",
       "      <th>39</th>\n",
       "      <td>SC</td>\n",
       "      <td>114.5</td>\n",
       "      <td>11347727.0</td>\n",
       "      <td>0.000010</td>\n",
       "    </tr>\n",
       "    <tr>\n",
       "      <th>40</th>\n",
       "      <td>SD</td>\n",
       "      <td>14.5</td>\n",
       "      <td>1817335.0</td>\n",
       "      <td>0.000008</td>\n",
       "    </tr>\n",
       "    <tr>\n",
       "      <th>41</th>\n",
       "      <td>TN</td>\n",
       "      <td>144.5</td>\n",
       "      <td>12377787.0</td>\n",
       "      <td>0.000012</td>\n",
       "    </tr>\n",
       "    <tr>\n",
       "      <th>42</th>\n",
       "      <td>TX</td>\n",
       "      <td>530.0</td>\n",
       "      <td>44414184.0</td>\n",
       "      <td>0.000012</td>\n",
       "    </tr>\n",
       "    <tr>\n",
       "      <th>43</th>\n",
       "      <td>UT</td>\n",
       "      <td>54.5</td>\n",
       "      <td>3588552.0</td>\n",
       "      <td>0.000015</td>\n",
       "    </tr>\n",
       "    <tr>\n",
       "      <th>44</th>\n",
       "      <td>VA</td>\n",
       "      <td>196.0</td>\n",
       "      <td>20076837.0</td>\n",
       "      <td>0.000010</td>\n",
       "    </tr>\n",
       "    <tr>\n",
       "      <th>45</th>\n",
       "      <td>VT</td>\n",
       "      <td>24.5</td>\n",
       "      <td>994190.0</td>\n",
       "      <td>0.000025</td>\n",
       "    </tr>\n",
       "    <tr>\n",
       "      <th>46</th>\n",
       "      <td>WA</td>\n",
       "      <td>164.5</td>\n",
       "      <td>14385621.0</td>\n",
       "      <td>0.000011</td>\n",
       "    </tr>\n",
       "    <tr>\n",
       "      <th>47</th>\n",
       "      <td>WI</td>\n",
       "      <td>124.5</td>\n",
       "      <td>8110030.0</td>\n",
       "      <td>0.000015</td>\n",
       "    </tr>\n",
       "    <tr>\n",
       "      <th>48</th>\n",
       "      <td>WV</td>\n",
       "      <td>44.5</td>\n",
       "      <td>3446713.0</td>\n",
       "      <td>0.000013</td>\n",
       "    </tr>\n",
       "    <tr>\n",
       "      <th>49</th>\n",
       "      <td>WY</td>\n",
       "      <td>24.5</td>\n",
       "      <td>1320807.0</td>\n",
       "      <td>0.000019</td>\n",
       "    </tr>\n",
       "  </tbody>\n",
       "</table>\n",
       "</div>"
      ],
      "text/plain": [
       "   state_code  suicides_point_est    veterans  suicide_rate\n",
       "0          AK                14.5   2129484.0      0.000007\n",
       "1          AL               124.5   9785383.0      0.000013\n",
       "2          AR                74.5   5701920.0      0.000013\n",
       "3          AZ               227.0  13140797.0      0.000017\n",
       "4          CA               490.0  37581646.0      0.000013\n",
       "5          CO               164.5  10577108.0      0.000016\n",
       "6          CT                34.5   3773600.0      0.000009\n",
       "7          DE                24.5   1792098.0      0.000014\n",
       "8          FL               530.0  36378552.0      0.000015\n",
       "9          GA               194.5  19604883.0      0.000010\n",
       "10         HI                 4.5   3215638.0      0.000001\n",
       "11         IA                64.5   4807028.0      0.000013\n",
       "12         ID                54.5   3318929.0      0.000016\n",
       "13         IL               154.5  13849542.0      0.000011\n",
       "14         IN                64.5   9691647.0      0.000007\n",
       "15         KS                54.5   5039500.0      0.000011\n",
       "16         KY               104.5   7548611.0      0.000014\n",
       "17         LA                74.5   7480834.0      0.000010\n",
       "18         MA                64.5   6492973.0      0.000010\n",
       "19         MD                64.5   9103622.0      0.000007\n",
       "20         ME                24.5   2609423.0      0.000009\n",
       "21         MI               154.5  12338624.0      0.000013\n",
       "22         MN                94.5   7165246.0      0.000013\n",
       "23         MO               144.5  10778555.0      0.000013\n",
       "24         MS                44.5   5099046.0      0.000009\n",
       "25         MT                44.5   2385472.0      0.000019\n",
       "26         NC               184.0  20889376.0      0.000009\n",
       "27         ND                14.5   1441249.0      0.000010\n",
       "28         NE                24.5   3120956.0      0.000008\n",
       "29         NH                34.5   2373081.0      0.000015\n",
       "30         NJ                64.5   6942664.0      0.000009\n",
       "31         NM                64.5   4077429.0      0.000016\n",
       "32         NV               104.5   5611531.0      0.000019\n",
       "33         NY               144.5  16036233.0      0.000009\n",
       "34         OH               234.5  17179805.0      0.000014\n",
       "35         OK               104.5   8100141.0      0.000013\n",
       "36         OR               114.5   7050019.0      0.000016\n",
       "37         PA               254.5  17515970.0      0.000015\n",
       "38         RI                14.5   1343256.0      0.000011\n",
       "39         SC               114.5  11347727.0      0.000010\n",
       "40         SD                14.5   1817335.0      0.000008\n",
       "41         TN               144.5  12377787.0      0.000012\n",
       "42         TX               530.0  44414184.0      0.000012\n",
       "43         UT                54.5   3588552.0      0.000015\n",
       "44         VA               196.0  20076837.0      0.000010\n",
       "45         VT                24.5    994190.0      0.000025\n",
       "46         WA               164.5  14385621.0      0.000011\n",
       "47         WI               124.5   8110030.0      0.000015\n",
       "48         WV                44.5   3446713.0      0.000013\n",
       "49         WY                24.5   1320807.0      0.000019"
      ]
     },
     "execution_count": 71,
     "metadata": {},
     "output_type": "execute_result"
    }
   ],
   "source": [
    "#state_rates.merge(va_spend_2016, how='left', left_on='', right_on='')"
   ]
  },
  {
   "cell_type": "code",
   "execution_count": null,
   "metadata": {},
   "outputs": [],
   "source": []
  },
  {
   "cell_type": "code",
   "execution_count": null,
   "metadata": {},
   "outputs": [],
   "source": []
  },
  {
   "cell_type": "markdown",
   "metadata": {},
   "source": [
    "# Suicides by Age"
   ]
  },
  {
   "cell_type": "markdown",
   "metadata": {},
   "source": [
    "TO DO:\n",
    "* Remove '<' and '-' (ranges) from veteran_suicides and general_population_suicides \n",
    "* Remove '--', '*' from rate columns "
   ]
  },
  {
   "cell_type": "markdown",
   "metadata": {},
   "source": [
    "# Suicides by Method"
   ]
  },
  {
   "cell_type": "markdown",
   "metadata": {
    "ExecuteTime": {
     "end_time": "2019-01-07T23:47:43.193898Z",
     "start_time": "2019-01-07T23:47:43.189763Z"
    }
   },
   "source": [
    "TO DO:\n",
    "* Remove ',', '<', from suicides\n",
    "* Replace '--' from group_percentage "
   ]
  },
  {
   "cell_type": "code",
   "execution_count": null,
   "metadata": {},
   "outputs": [],
   "source": []
  }
 ],
 "metadata": {
  "kernelspec": {
   "display_name": "Python 3",
   "language": "python",
   "name": "python3"
  },
  "language_info": {
   "codemirror_mode": {
    "name": "ipython",
    "version": 3
   },
   "file_extension": ".py",
   "mimetype": "text/x-python",
   "name": "python",
   "nbconvert_exporter": "python",
   "pygments_lexer": "ipython3",
   "version": "3.6.7"
  },
  "toc": {
   "base_numbering": 1,
   "nav_menu": {},
   "number_sections": true,
   "sideBar": true,
   "skip_h1_title": false,
   "title_cell": "Table of Contents",
   "title_sidebar": "Contents",
   "toc_cell": false,
   "toc_position": {
    "height": "calc(100% - 180px)",
    "left": "10px",
    "top": "150px",
    "width": "335.99px"
   },
   "toc_section_display": true,
   "toc_window_display": true
  }
 },
 "nbformat": 4,
 "nbformat_minor": 2
}
