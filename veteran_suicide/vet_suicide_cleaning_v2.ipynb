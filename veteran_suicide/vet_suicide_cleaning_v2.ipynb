{
 "cells": [
  {
   "cell_type": "markdown",
   "metadata": {},
   "source": [
    "5 datasets:\n",
    "    \n",
    "- Veteran Population Data, 2016\n",
    "- VA Expenditure Data, 2016\n",
    "- Veteran Suicides by Sex, 2016\n",
    "- Veteran Suicides by Age, 2016\n",
    "- Veteran Suicides by Method, 2016 "
   ]
  },
  {
   "cell_type": "code",
   "execution_count": 532,
   "metadata": {
    "ExecuteTime": {
     "end_time": "2019-01-17T21:26:32.911105Z",
     "start_time": "2019-01-17T21:26:32.908093Z"
    }
   },
   "outputs": [],
   "source": [
    "import warnings\n",
    "warnings.filterwarnings(\"ignore\")\n",
    "\n",
    "import time\n",
    "\n",
    "import os\n",
    "import glob\n",
    "import pandas as pd\n",
    "import numpy as np\n",
    "\n",
    "import matplotlib.pyplot as plt"
   ]
  },
  {
   "cell_type": "code",
   "execution_count": 533,
   "metadata": {
    "ExecuteTime": {
     "end_time": "2019-01-17T21:26:33.082319Z",
     "start_time": "2019-01-17T21:26:33.075508Z"
    }
   },
   "outputs": [],
   "source": [
    "state_codes = {\n",
    "    'District of Columbia' : 'dc','Mississippi': 'MS', 'Oklahoma': 'OK', \n",
    "    'Delaware': 'DE', 'Minnesota': 'MN', 'Illinois': 'IL', 'Arkansas': 'AR', \n",
    "    'New Mexico': 'NM', 'Indiana': 'IN', 'Maryland': 'MD', 'Louisiana': 'LA', \n",
    "    'Idaho': 'ID', 'Wyoming': 'WY', 'Tennessee': 'TN', 'Arizona': 'AZ', \n",
    "    'Iowa': 'IA', 'Michigan': 'MI', 'Kansas': 'KS', 'Utah': 'UT', \n",
    "    'Virginia': 'VA', 'Oregon': 'OR', 'Connecticut': 'CT', 'Montana': 'MT', \n",
    "    'California': 'CA', 'Massachusetts': 'MA', 'West Virginia': 'WV', \n",
    "    'South Carolina': 'SC', 'New Hampshire': 'NH', 'Wisconsin': 'WI',\n",
    "    'Vermont': 'VT', 'Georgia': 'GA', 'North Dakota': 'ND', \n",
    "    'Pennsylvania': 'PA', 'Florida': 'FL', 'Alaska': 'AK', 'Kentucky': 'KY', \n",
    "    'Hawaii': 'HI', 'Nebraska': 'NE', 'Missouri': 'MO', 'Ohio': 'OH', \n",
    "    'Alabama': 'AL', 'Rhode Island': 'RI', 'South Dakota': 'SD', \n",
    "    'Colorado': 'CO', 'New Jersey': 'NJ', 'Washington': 'WA', \n",
    "    'North Carolina': 'NC', 'New York': 'NY', 'Texas': 'TX', \n",
    "    'Nevada': 'NV', 'Maine': 'ME'}\n",
    "\n",
    "# found on stackoverflow"
   ]
  },
  {
   "cell_type": "code",
   "execution_count": 534,
   "metadata": {
    "ExecuteTime": {
     "end_time": "2019-01-17T21:26:33.256408Z",
     "start_time": "2019-01-17T21:26:33.254182Z"
    }
   },
   "outputs": [],
   "source": [
    "data_filepath = '/Users/kerong/data/veteran_suicide/'"
   ]
  },
  {
   "cell_type": "code",
   "execution_count": 535,
   "metadata": {
    "ExecuteTime": {
     "end_time": "2019-01-17T21:26:33.437734Z",
     "start_time": "2019-01-17T21:26:33.432886Z"
    }
   },
   "outputs": [
    {
     "name": "stdout",
     "output_type": "stream",
     "text": [
      "/Users/kerong/data/veteran_suicide/data_in/state_rates_vet_by_method_2014.csv\n",
      "/Users/kerong/data/veteran_suicide/data_in/state_rates_vet_by_age_2015.csv\n",
      "/Users/kerong/data/veteran_suicide/data_in/state_rates_vet_by_age_2014.csv\n",
      "/Users/kerong/data/veteran_suicide/data_in/state_rates_vet_by_method_2015.csv\n",
      "/Users/kerong/data/veteran_suicide/data_in/state_rates_vet_by_age_2016.csv\n",
      "/Users/kerong/data/veteran_suicide/data_in/state_rates_vet_by_method_2016.csv\n",
      "/Users/kerong/data/veteran_suicide/data_in/va_expenditure_2016.csv\n",
      "/Users/kerong/data/veteran_suicide/data_in/national_rates_non_vet_2016.csv\n",
      "/Users/kerong/data/veteran_suicide/data_in/state_rates_vet_by_sex_2016.csv\n",
      "/Users/kerong/data/veteran_suicide/data_in/state_rates_vet_by_sex_2014.csv\n",
      "/Users/kerong/data/veteran_suicide/data_in/state_rates_vet_by_sex_2015.csv\n",
      "/Users/kerong/data/veteran_suicide/data_in/vet_state_characteristics_2013.csv\n",
      "/Users/kerong/data/veteran_suicide/data_in/national_rates_vet_2016.csv\n",
      "/Users/kerong/data/veteran_suicide/data_in/vet_pop_2016.csv\n"
     ]
    }
   ],
   "source": [
    "for filename in glob.glob(os.path.join(data_filepath, 'data_in/', '*.csv')):\n",
    "    print(filename)"
   ]
  },
  {
   "cell_type": "markdown",
   "metadata": {},
   "source": [
    "# Veteran Population Data\n",
    "\n",
    "Source: the VA  \n",
    "File: [6L_VetPop2016_State](https://www.va.gov/vetdata/docs/Demographics/New_Vetpop_Model/6L_VetPop2016_State.xlsx), filtered to Date = 9/30/15\n",
    "\n"
   ]
  },
  {
   "cell_type": "code",
   "execution_count": 536,
   "metadata": {
    "ExecuteTime": {
     "end_time": "2019-01-17T21:26:34.919354Z",
     "start_time": "2019-01-17T21:26:34.875863Z"
    }
   },
   "outputs": [],
   "source": [
    "vet_pop_2016=pd.read_csv(data_filepath+'data_in/'+'vet_pop_2016.csv')\n",
    "vet_pop_2016.columns = vet_pop_2016.columns.str.replace(' ', '_')\n",
    "vet_pop_2016.columns = [i.lower() for i in vet_pop_2016.columns]"
   ]
  },
  {
   "cell_type": "markdown",
   "metadata": {},
   "source": [
    "# Suicides by Gender"
   ]
  },
  {
   "cell_type": "markdown",
   "metadata": {},
   "source": [
    "## Checks"
   ]
  },
  {
   "cell_type": "code",
   "execution_count": 537,
   "metadata": {
    "ExecuteTime": {
     "end_time": "2019-01-17T21:26:36.994667Z",
     "start_time": "2019-01-17T21:26:36.979446Z"
    },
    "scrolled": true
   },
   "outputs": [
    {
     "name": "stdout",
     "output_type": "stream",
     "text": [
      "/Users/kerong/data/veteran_suicide/data_in/state_rates_vet_by_sex_2016.csv\n",
      "/Users/kerong/data/veteran_suicide/data_in/state_rates_vet_by_sex_2014.csv\n",
      "/Users/kerong/data/veteran_suicide/data_in/state_rates_vet_by_sex_2015.csv\n"
     ]
    }
   ],
   "source": [
    "# Load and concatenate all datasets with a year index \n",
    "df_list = []\n",
    "for filename in glob.glob(os.path.join(data_filepath, 'data_in/', '*sex*.csv')):\n",
    "    print(filename)\n",
    "    year = filename.split('_')[-1].split('.')[0]\n",
    "    df = pd.read_csv(filename)\n",
    "    df['year'] = year\n",
    "    df_list.append(df)"
   ]
  },
  {
   "cell_type": "code",
   "execution_count": 538,
   "metadata": {
    "ExecuteTime": {
     "end_time": "2019-01-17T21:26:37.195858Z",
     "start_time": "2019-01-17T21:26:37.191800Z"
    },
    "scrolled": true
   },
   "outputs": [
    {
     "name": "stdout",
     "output_type": "stream",
     "text": [
      "(153, 5)\n",
      "Index(['Geographic Region', 'State of Death', 'Sex', 'Veteran\\nSuicides',\n",
      "       'year'],\n",
      "      dtype='object')\n",
      "(153, 5)\n",
      "Index(['Geographic Region', 'State of Death', 'Sex', 'Veteran\\nSuicides',\n",
      "       'year'],\n",
      "      dtype='object')\n",
      "(153, 5)\n",
      "Index(['Geographic Region', 'State of Death', 'Sex', 'Veteran\\nSuicides',\n",
      "       'year'],\n",
      "      dtype='object')\n"
     ]
    }
   ],
   "source": [
    "#check that columns align\n",
    "for i in df_list:\n",
    "    print(i.shape)\n",
    "    print(i.columns)"
   ]
  },
  {
   "cell_type": "code",
   "execution_count": 539,
   "metadata": {
    "ExecuteTime": {
     "end_time": "2019-01-17T21:26:38.761654Z",
     "start_time": "2019-01-17T21:26:38.756992Z"
    }
   },
   "outputs": [],
   "source": [
    "state_by_sex = pd.concat(df_list)"
   ]
  },
  {
   "cell_type": "code",
   "execution_count": 540,
   "metadata": {
    "ExecuteTime": {
     "end_time": "2019-01-17T21:26:38.919793Z",
     "start_time": "2019-01-17T21:26:38.913327Z"
    }
   },
   "outputs": [
    {
     "data": {
      "text/plain": [
       "Index(['geographic_region', 'state_of_death', 'sex', 'veteran_suicides',\n",
       "       'year'],\n",
       "      dtype='object')"
      ]
     },
     "execution_count": 540,
     "metadata": {},
     "output_type": "execute_result"
    }
   ],
   "source": [
    "# replace newline character, spaces, and lower column names \n",
    "state_by_sex.columns = state_by_sex.columns.str.replace('\\n', '_')\n",
    "state_by_sex.columns = state_by_sex.columns.str.replace(' ', '_')\n",
    "state_by_sex.columns = [i.lower() for i in state_by_sex.columns]\n",
    "state_by_sex.columns"
   ]
  },
  {
   "cell_type": "code",
   "execution_count": 541,
   "metadata": {
    "ExecuteTime": {
     "end_time": "2019-01-17T21:26:39.111271Z",
     "start_time": "2019-01-17T21:26:39.104241Z"
    },
    "scrolled": true
   },
   "outputs": [
    {
     "name": "stdout",
     "output_type": "stream",
     "text": [
      "Column name:  geographic_region\n",
      "['Northeast' 'Midwest' 'South' 'West']\n",
      "\n",
      "Column name:  state_of_death\n",
      "['Connecticut' 'Maine' 'Massachusetts' 'New Hampshire' 'New Jersey'\n",
      " 'New York' 'Pennsylvania' 'Rhode Island' 'Vermont' 'Illinois' 'Indiana'\n",
      " 'Iowa' 'Kansas' 'Michigan' 'Minnesota' 'Missouri' 'Nebraska'\n",
      " 'North Dakota' 'Ohio' 'South Dakota' 'Wisconsin' 'Alabama' 'Arkansas'\n",
      " 'Delaware' 'District Of Columbia' 'Florida' 'Georgia' 'Kentucky'\n",
      " 'Louisiana' 'Maryland' 'Mississippi' 'North Carolina' 'Oklahoma'\n",
      " 'South Carolina' 'Tennessee' 'Texas' 'Virginia' 'West Virginia' 'Alaska'\n",
      " 'Arizona' 'California' 'Colorado' 'Hawaii' 'Idaho' 'Montana' 'Nevada'\n",
      " 'New Mexico' 'Oregon' 'Utah' 'Washington' 'Wyoming'\n",
      " 'District of Columbia']\n",
      "\n",
      "Column name:  sex\n",
      "['Total' 'Male' 'Female']\n",
      "\n",
      "Column name:  veteran_suicides\n",
      "['36' '30-40' '<10' '29' '20-30' '68' '60-70' '33' '67' '153' '140-150'\n",
      " '263' '250-260' '16' '20-Oct' '25' '162' '150-160' '70' '64' '60' '50-60'\n",
      " '159' '95' '90-100' '154' '27' '245' '230-240' '18' '132' '120-130' '128'\n",
      " '79' '70-80' '24' '530' '506' '202' '190-200' '108' '100-110' '75' '50'\n",
      " '40-50' '184' '171' '13' '110' '120' '110-120' '156' '502' '28' '196'\n",
      " '185' '11' '17' '227' '217' '10' '490' '470' '20' '175' '160-170' '0-10'\n",
      " '58' '42' '107' '71' '122' '59' '174' '23' '40' '61' '77' '190' '180-190'\n",
      " '270' '260-270' '10-20' '170' '112' '65' '188' '91' '80-90' '179'\n",
      " '170-180' '46' '228' '211' '21' '114' '97' '85' '513' '489' '123' '93'\n",
      " '121' '140' '130-140' '467' '439' '172' '62' '30' '239' '226' '597' '577'\n",
      " '168' '45' '100' '81' '129' '47' '152' '230' '220-230' '15' '105' '180'\n",
      " '26' '210' '200-210' '106' '125' '92' '557' '532' '182' '127' '94' '197'\n",
      " '116' '146' '509' '39' '160' '12' '57' '200' '516' '492' '96' '69' '118'\n",
      " '178']\n",
      "\n",
      "Column name:  year\n",
      "['2016' '2014' '2015']\n",
      "\n"
     ]
    }
   ],
   "source": [
    "# check unique values \n",
    "for i in range(state_by_sex.shape[1]):\n",
    "    print('Column name: ', state_by_sex.columns[i])\n",
    "    print(state_by_sex.iloc[:,i].unique())\n",
    "    print('')"
   ]
  },
  {
   "cell_type": "markdown",
   "metadata": {},
   "source": [
    "## Cleaning\n",
    "\n",
    "and merging with population data"
   ]
  },
  {
   "cell_type": "code",
   "execution_count": 542,
   "metadata": {
    "ExecuteTime": {
     "end_time": "2019-01-17T21:26:42.240537Z",
     "start_time": "2019-01-17T21:26:42.233452Z"
    }
   },
   "outputs": [],
   "source": [
    "#Item 1. Change '20-Oct' to '10-20' (excel export error)\n",
    "state_by_sex.loc[state_by_sex['veteran_suicides'] == '20-Oct', 'veteran_suicides']  = '10-20'"
   ]
  },
  {
   "cell_type": "code",
   "execution_count": 543,
   "metadata": {
    "ExecuteTime": {
     "end_time": "2019-01-17T21:26:42.404815Z",
     "start_time": "2019-01-17T21:26:42.399334Z"
    }
   },
   "outputs": [],
   "source": [
    "#Item 2: Change 'District Of Columbia' to 'District of Columbia'\n",
    "state_by_sex.loc[state_by_sex['state_of_death'] == 'District Of Columbia', 'state_of_death'] = 'District of Columbia'"
   ]
  },
  {
   "cell_type": "code",
   "execution_count": 544,
   "metadata": {
    "ExecuteTime": {
     "end_time": "2019-01-17T21:26:43.754832Z",
     "start_time": "2019-01-17T21:26:43.752506Z"
    }
   },
   "outputs": [],
   "source": [
    "#Item 3. Updates ranges for veteran_suicides to point estimates"
   ]
  },
  {
   "cell_type": "markdown",
   "metadata": {},
   "source": [
    "Notice that the ranges under `veteran_suicides` overlap. Let's make an executive decision that each range contains the lower bound and up to but excluding the upper bound. For states that report a range, let's take the mean/median of the range as the point estimate for that state, otherwise we take the actual number that a state reports. "
   ]
  },
  {
   "cell_type": "code",
   "execution_count": 545,
   "metadata": {
    "ExecuteTime": {
     "end_time": "2019-01-17T21:26:46.309227Z",
     "start_time": "2019-01-17T21:26:46.305750Z"
    }
   },
   "outputs": [],
   "source": [
    "def suicides_point_est(cell):\n",
    "    if cell.isdigit():\n",
    "        return pd.to_numeric(cell)\n",
    "    if '-' in cell:\n",
    "        return pd.to_numeric(cell.split('-')[0])+4.5\n",
    "    else:\n",
    "        return 0 "
   ]
  },
  {
   "cell_type": "code",
   "execution_count": 546,
   "metadata": {
    "ExecuteTime": {
     "end_time": "2019-01-17T21:26:46.488354Z",
     "start_time": "2019-01-17T21:26:46.474786Z"
    }
   },
   "outputs": [],
   "source": [
    "state_by_sex['suicides_point_est'] = state_by_sex.veteran_suicides.apply(lambda x: suicides_point_est(x))"
   ]
  },
  {
   "cell_type": "code",
   "execution_count": 547,
   "metadata": {
    "ExecuteTime": {
     "end_time": "2019-01-17T21:26:46.635738Z",
     "start_time": "2019-01-17T21:26:46.631976Z"
    }
   },
   "outputs": [],
   "source": [
    "state_by_sex['gender_code']=state_by_sex.sex.apply(lambda x: x[0]) #for merging to population file "
   ]
  },
  {
   "cell_type": "code",
   "execution_count": 548,
   "metadata": {
    "ExecuteTime": {
     "end_time": "2019-01-17T21:26:46.971514Z",
     "start_time": "2019-01-17T21:26:46.967565Z"
    }
   },
   "outputs": [],
   "source": [
    "state_by_sex['state_code'] = state_by_sex.state_of_death.apply(lambda x : state_codes[x]) #for mapping "
   ]
  },
  {
   "cell_type": "code",
   "execution_count": 554,
   "metadata": {
    "ExecuteTime": {
     "end_time": "2019-01-17T22:19:29.176035Z",
     "start_time": "2019-01-17T22:19:29.153043Z"
    }
   },
   "outputs": [],
   "source": [
    "#Aggregate to national level\n",
    "vet_pop_by_gender = vet_pop_2016.groupby(['gender', 'state'])['veterans'].sum().reset_index() \n",
    "vet_pop_by_gender.veterans = pd.to_numeric(vet_pop_by_gender.veterans)\n",
    "vet_pop_by_gender.veterans = round(vet_pop_by_gender.veterans)"
   ]
  },
  {
   "cell_type": "code",
   "execution_count": 556,
   "metadata": {
    "ExecuteTime": {
     "end_time": "2019-01-17T22:20:03.063803Z",
     "start_time": "2019-01-17T22:20:03.050208Z"
    },
    "scrolled": true
   },
   "outputs": [],
   "source": [
    "#join population data to 2016 suicide by gender data \n",
    "state_by_sex_2016 = state_by_sex[~(state_by_sex.sex=='Total') & (state_by_sex.year=='2016')]\n",
    "state_by_sex_wide = state_by_sex_2016.merge(vet_pop_by_gender, how='left', left_on = ['state_of_death', 'gender_code'], right_on=['state','gender'])\n",
    "assert state_by_sex_wide.shape[0] == state_by_sex_2016.shape[0]"
   ]
  },
  {
   "cell_type": "code",
   "execution_count": 558,
   "metadata": {
    "ExecuteTime": {
     "end_time": "2019-01-17T22:20:20.897334Z",
     "start_time": "2019-01-17T22:20:20.882991Z"
    }
   },
   "outputs": [
    {
     "data": {
      "text/html": [
       "<div>\n",
       "<style scoped>\n",
       "    .dataframe tbody tr th:only-of-type {\n",
       "        vertical-align: middle;\n",
       "    }\n",
       "\n",
       "    .dataframe tbody tr th {\n",
       "        vertical-align: top;\n",
       "    }\n",
       "\n",
       "    .dataframe thead th {\n",
       "        text-align: right;\n",
       "    }\n",
       "</style>\n",
       "<table border=\"1\" class=\"dataframe\">\n",
       "  <thead>\n",
       "    <tr style=\"text-align: right;\">\n",
       "      <th></th>\n",
       "      <th>geographic_region</th>\n",
       "      <th>state_of_death</th>\n",
       "      <th>sex</th>\n",
       "      <th>veteran_suicides</th>\n",
       "      <th>year</th>\n",
       "      <th>suicides_point_est</th>\n",
       "      <th>gender_code</th>\n",
       "      <th>state_code</th>\n",
       "      <th>gender</th>\n",
       "      <th>state</th>\n",
       "      <th>veterans</th>\n",
       "    </tr>\n",
       "  </thead>\n",
       "  <tbody>\n",
       "    <tr>\n",
       "      <th>0</th>\n",
       "      <td>Northeast</td>\n",
       "      <td>Connecticut</td>\n",
       "      <td>Male</td>\n",
       "      <td>30-40</td>\n",
       "      <td>2016</td>\n",
       "      <td>34.5</td>\n",
       "      <td>M</td>\n",
       "      <td>CT</td>\n",
       "      <td>M</td>\n",
       "      <td>Connecticut</td>\n",
       "      <td>3368725.0</td>\n",
       "    </tr>\n",
       "    <tr>\n",
       "      <th>1</th>\n",
       "      <td>Northeast</td>\n",
       "      <td>Connecticut</td>\n",
       "      <td>Female</td>\n",
       "      <td>&lt;10</td>\n",
       "      <td>2016</td>\n",
       "      <td>0.0</td>\n",
       "      <td>F</td>\n",
       "      <td>CT</td>\n",
       "      <td>F</td>\n",
       "      <td>Connecticut</td>\n",
       "      <td>404875.0</td>\n",
       "    </tr>\n",
       "    <tr>\n",
       "      <th>2</th>\n",
       "      <td>Northeast</td>\n",
       "      <td>Maine</td>\n",
       "      <td>Male</td>\n",
       "      <td>20-30</td>\n",
       "      <td>2016</td>\n",
       "      <td>24.5</td>\n",
       "      <td>M</td>\n",
       "      <td>ME</td>\n",
       "      <td>M</td>\n",
       "      <td>Maine</td>\n",
       "      <td>2331524.0</td>\n",
       "    </tr>\n",
       "    <tr>\n",
       "      <th>3</th>\n",
       "      <td>Northeast</td>\n",
       "      <td>Maine</td>\n",
       "      <td>Female</td>\n",
       "      <td>&lt;10</td>\n",
       "      <td>2016</td>\n",
       "      <td>0.0</td>\n",
       "      <td>F</td>\n",
       "      <td>ME</td>\n",
       "      <td>F</td>\n",
       "      <td>Maine</td>\n",
       "      <td>277899.0</td>\n",
       "    </tr>\n",
       "    <tr>\n",
       "      <th>4</th>\n",
       "      <td>Northeast</td>\n",
       "      <td>Massachusetts</td>\n",
       "      <td>Male</td>\n",
       "      <td>60-70</td>\n",
       "      <td>2016</td>\n",
       "      <td>64.5</td>\n",
       "      <td>M</td>\n",
       "      <td>MA</td>\n",
       "      <td>M</td>\n",
       "      <td>Massachusetts</td>\n",
       "      <td>5861102.0</td>\n",
       "    </tr>\n",
       "  </tbody>\n",
       "</table>\n",
       "</div>"
      ],
      "text/plain": [
       "  geographic_region state_of_death     sex veteran_suicides  year  \\\n",
       "0         Northeast    Connecticut    Male            30-40  2016   \n",
       "1         Northeast    Connecticut  Female              <10  2016   \n",
       "2         Northeast          Maine    Male            20-30  2016   \n",
       "3         Northeast          Maine  Female              <10  2016   \n",
       "4         Northeast  Massachusetts    Male            60-70  2016   \n",
       "\n",
       "   suicides_point_est gender_code state_code gender          state   veterans  \n",
       "0                34.5           M         CT      M    Connecticut  3368725.0  \n",
       "1                 0.0           F         CT      F    Connecticut   404875.0  \n",
       "2                24.5           M         ME      M          Maine  2331524.0  \n",
       "3                 0.0           F         ME      F          Maine   277899.0  \n",
       "4                64.5           M         MA      M  Massachusetts  5861102.0  "
      ]
     },
     "execution_count": 558,
     "metadata": {},
     "output_type": "execute_result"
    }
   ],
   "source": [
    "state_by_sex_wide.head()"
   ]
  },
  {
   "cell_type": "code",
   "execution_count": 559,
   "metadata": {
    "ExecuteTime": {
     "end_time": "2019-01-17T22:20:32.637650Z",
     "start_time": "2019-01-17T22:20:32.628063Z"
    }
   },
   "outputs": [
    {
     "name": "stdout",
     "output_type": "stream",
     "text": [
      "Last written out:  20190117_1620\n"
     ]
    }
   ],
   "source": [
    "now = time.strftime('%Y%m%d_%H%M')\n",
    "print('Last written out: ', now)\n",
    "state_by_sex_wide.to_csv(data_filepath+'data_out/'+'state_by_sex_wide_%s.csv'%now, index = False)"
   ]
  },
  {
   "cell_type": "markdown",
   "metadata": {},
   "source": [
    "# Suicides by Age"
   ]
  },
  {
   "cell_type": "markdown",
   "metadata": {},
   "source": [
    "## Checks"
   ]
  },
  {
   "cell_type": "code",
   "execution_count": 560,
   "metadata": {
    "ExecuteTime": {
     "end_time": "2019-01-17T22:20:51.151463Z",
     "start_time": "2019-01-17T22:20:51.133312Z"
    }
   },
   "outputs": [
    {
     "name": "stdout",
     "output_type": "stream",
     "text": [
      "/Users/kerong/data/veteran_suicide/data_in/state_rates_vet_by_age_2015.csv\n",
      "/Users/kerong/data/veteran_suicide/data_in/state_rates_vet_by_age_2014.csv\n",
      "/Users/kerong/data/veteran_suicide/data_in/state_rates_vet_by_age_2016.csv\n"
     ]
    }
   ],
   "source": [
    "df_list = []\n",
    "for filename in glob.glob(os.path.join(data_filepath, 'data_in/', '*age*.csv')):\n",
    "    print(filename)\n",
    "    year = filename.split('_')[-1].split('.')[0]\n",
    "    df = pd.read_csv(filename)\n",
    "    df['year']=year\n",
    "    df_list.append(df)"
   ]
  },
  {
   "cell_type": "code",
   "execution_count": 561,
   "metadata": {
    "ExecuteTime": {
     "end_time": "2019-01-17T22:20:51.362265Z",
     "start_time": "2019-01-17T22:20:51.357974Z"
    }
   },
   "outputs": [
    {
     "name": "stdout",
     "output_type": "stream",
     "text": [
      "(224, 8)\n",
      "Index(['Geographic\\nRegion', 'State of Death', 'Age\\nGroup',\n",
      "       'Veteran\\nSuicides', 'Veteran\\nSuicide\\nRate\\nper\\n100,000',\n",
      "       'General\\nPopulation\\nSuicides',\n",
      "       'General\\nPopulation\\nRate per\\n100,000', 'year'],\n",
      "      dtype='object')\n",
      "(224, 8)\n",
      "Index(['Geographic\\nRegion', 'State of Death', 'Age\\nGroup',\n",
      "       'Veteran\\nSuicides', 'Veteran\\nSuicide\\nRate\\nper\\n100,000',\n",
      "       'General\\nPopulation\\nSuicides',\n",
      "       'General\\nPopulation\\nRate per\\n100,000', 'year'],\n",
      "      dtype='object')\n",
      "(224, 8)\n",
      "Index(['Geographic\\nRegion', 'State of Death', 'Age\\nGroup',\n",
      "       'Veteran\\nSuicides', 'Veteran\\nSuicide\\nRate\\nper\\n100,000',\n",
      "       'General\\nPopulation\\nSuicides',\n",
      "       'General\\nPopulation\\nRate per\\n100,000', 'year'],\n",
      "      dtype='object')\n"
     ]
    }
   ],
   "source": [
    "for i in df_list:\n",
    "    print(i.shape)\n",
    "    print(i.columns)"
   ]
  },
  {
   "cell_type": "code",
   "execution_count": 562,
   "metadata": {
    "ExecuteTime": {
     "end_time": "2019-01-17T22:20:53.659769Z",
     "start_time": "2019-01-17T22:20:53.653647Z"
    }
   },
   "outputs": [],
   "source": [
    "state_by_age = pd.concat(df_list)"
   ]
  },
  {
   "cell_type": "code",
   "execution_count": 563,
   "metadata": {
    "ExecuteTime": {
     "end_time": "2019-01-17T22:20:53.919189Z",
     "start_time": "2019-01-17T22:20:53.912257Z"
    },
    "scrolled": true
   },
   "outputs": [
    {
     "data": {
      "text/plain": [
       "Index(['geographic_region', 'state_of_death', 'age_group', 'veteran_suicides',\n",
       "       'veteran_suicide_rate_per_100_000', 'general_population_suicides',\n",
       "       'general_population_rate_per_100_000', 'year'],\n",
       "      dtype='object')"
      ]
     },
     "execution_count": 563,
     "metadata": {},
     "output_type": "execute_result"
    }
   ],
   "source": [
    "state_by_age.columns = state_by_age.columns.str.replace('\\n', '_')\n",
    "state_by_age.columns = state_by_age.columns.str.replace(' ', '_')\n",
    "state_by_age.columns = state_by_age.columns.str.replace(',', '_')\n",
    "state_by_age.columns = [i.lower() for i in state_by_age.columns]\n",
    "state_by_age.columns"
   ]
  },
  {
   "cell_type": "code",
   "execution_count": 564,
   "metadata": {
    "ExecuteTime": {
     "end_time": "2019-01-17T22:20:56.956775Z",
     "start_time": "2019-01-17T22:20:56.946476Z"
    },
    "scrolled": true
   },
   "outputs": [
    {
     "name": "stdout",
     "output_type": "stream",
     "text": [
      "Column name:  geographic_region\n",
      "['Total U.S.' 'Northeast' 'Midwest' 'South' 'West']\n",
      "\n",
      "Column name:  state_of_death\n",
      "['Total U.S.' 'All' 'Connecticut' 'Maine' 'Massachusetts' 'New Hampshire'\n",
      " 'New Jersey' 'New York' 'Pennsylvania' 'Rhode Island' 'Vermont'\n",
      " 'Illinois' 'Indiana' 'Iowa' 'Kansas' 'Michigan' 'Minnesota' 'Missouri'\n",
      " 'Nebraska' 'North Dakota' 'Ohio' 'South Dakota' 'Wisconsin' 'Alabama'\n",
      " 'Arkansas' 'Delaware' 'District of Columbia' 'Florida' 'Georgia'\n",
      " 'Kentucky' 'Louisiana' 'Maryland' 'Mississippi' 'North Carolina'\n",
      " 'Oklahoma' 'South Carolina' 'Tennessee' 'Texas' 'Virginia'\n",
      " 'West Virginia' 'Alaska' 'Arizona' 'California' 'Colorado' 'Hawaii'\n",
      " 'Idaho' 'Montana' 'Nevada' 'New Mexico' 'Oregon' 'Utah' 'Washington'\n",
      " 'Wyoming' 'District Of Columbia']\n",
      "\n",
      "Column name:  age_group\n",
      "['18-34' '35-54' '55-74' '75+']\n",
      "\n",
      "Column name:  veteran_suicides\n",
      "['785' '1777' '2310' '1241' '75' '192' '251' '144' '<10' '12' '16' '21'\n",
      " '14' '10-20' '19' '10' '11' '22' '24' '18' '42' '62' '30' '27' '64' '86'\n",
      " '53' '165' '359' '450' '230' '13' '49' '58' '34' '35' '41' '17' '26' '63'\n",
      " '33' '15' '23' '48' '66' '36' '76' '38' '338' '798' '987' '542' '39' '47'\n",
      " '25' '56' '134' '214' '153' '54' '72' '37' '28' '70' '80' '40' '46' '50'\n",
      " '87' '166' '169' '20' '60' '207' '428' '622' '325' '88' '61' '127' '190'\n",
      " '138' '29' '32' '734' '1775' '2342' '1405' '67' '227' '277' '181' '68'\n",
      " '84' '111' '163' '396' '468' '268' '31' '51' '65' '43' '69' '91' '310'\n",
      " '694' '952' '534' '128' '206' '20-30' '74' '131' '172' '92' '59' '194'\n",
      " '458' '645' '422' '71' '55' '142' '226' '167' '52' '893' '1648' '2259'\n",
      " '1274' '93' '182' '260' '155' '90' '179' '333' '448' '242' '44' '98'\n",
      " '397' '715' '956' '540' '124' '204' '150' '57' '109' '161' '81' '224'\n",
      " '418' '595' '337' '89' '162' '129']\n",
      "\n",
      "Column name:  veteran_suicide_rate_per_100_000\n",
      "['39.1' '34.8' '26' '27.1' '32.1' '30.4' '19.5' '17.3' '--' '30.0*'\n",
      " '18.8*' '72.4' '25.9*' '42.9*' '27.9*' '13.8' '9.7*' '21.2*' '28.6'\n",
      " '14.8' '25.7*' '23' '17.6' '12.9' '40.3' '34' '22.5' '22.6' '50.0*'\n",
      " '41.1' '23.2' '20.3*' '31.8' '20.3' '21.1' '24.4*' '21.7' '21.1*' '36.2*'\n",
      " '32.6' '44.0*' '42.9' '20.9*' '42.5*' '56.5' '36.3' '22' '22.4' '48.4*'\n",
      " '32.4' '14.6' '11.2*' '71.4' '44' '32.2' '35.3' '31.3*' '50' '30.7'\n",
      " '20.9' '20.5' '53.6*' '38.2*' '27.7' '27.9' '37.6' '26.9' '31.9' '37.8*'\n",
      " '39' '28' '34.7' '57.9' '45.5' '36.8' '31.5' '35.8' '27.6' '25' '23.8'\n",
      " '32.7' '51.7*' '46.8' '36.6' '42.6' '36.1*' '33.3' '45.3' '32.4*' '23.1'\n",
      " '15' '16.7*' '22.9*' '47.4*' '34.5' '25.6' '27.3' '51.3' '31.7*' '36.6*'\n",
      " '38.1' '25.3' '19.7*' '45.7' '29' '42.4' '41.8' '35.5' '26.1' '31' '24.7'\n",
      " '21.5' '24.1' '38.9*' '40' '44.5' '38.9' '31.3' '44.8*' '60.9' '45.8'\n",
      " '38.8' '30.5' '32.3' '31.6' '25.1' '31.1' '63' '39.7' '35.1' '51.6*'\n",
      " '60.4' '43.5*' '53.7' '57.1*' '42.1' '39.4' '43.2*' '63.2' '36' '69.2*'\n",
      " '41.4' '33.8' '28.8' '54.3*' '40.7' '37.1' '24.6' '125.0*' '33.6' '29.9'\n",
      " '29.3' '17.2*' '29.3*' '12.4*' '18.1*' '44.4*' '24.5*' '37.9*' '24.7*'\n",
      " '14.2' '18.7' '30' '18.8' '17' '23.1*' '43.3' '29.1' '24.3' '37' '23.7'\n",
      " '24.9' '51.6' '30.8' '18.2' '32.5*' '27.4' '25.7' '49' '35.8*' '38.5*'\n",
      " '32.7*' '34.0*' '76.7' '43' '21.6' '18.3' '36.5' '25.5' '45.2*' '31.4'\n",
      " '40.6' '41.2*' '26.3*' '24.8' '68.4*' '33.3*' '25.9' '36.8*' '29.5'\n",
      " '20.6' '23.3*' '70.8*' '34.3' '34.1' '31.7' '22.8*' '26.5' '18.1' '28.3'\n",
      " '50.6' '35.6' '29.0*' '39.5*' '19.5*' '38.6' '16.4' '34.1*' '23.3' '28.7'\n",
      " '21.9' '56.8' '42' '36.1' '29.5*' '32.6*' '22.3' '42.7' '25.5*' '24.4'\n",
      " '33.7' '34.4' '28.1' '33' '29.2' '19.8' '39.5' '40.9' '45.8*' '32.3*'\n",
      " '57.4' '57.3' '37.9' '37.4' '34.8*' '46.1' '19.0*' '46.3*' '63.2*' '41.3'\n",
      " '44.2' '58.8' '45.1' '42.5' '62.5*' '60' '31.6*' '67.7' '33.1' '45'\n",
      " '30.1' '20.8' '19.4' '19.8*' '38.5' '18.4' '54.2*' '22.0*' '15.4' '21.3'\n",
      " '15.7' '52.3' '39.6' '29.4' '60.0*' '45.2' '33.4' '23.6' '24.2' '28.2'\n",
      " '26.8*' '11.5*' '17.1' '17.0*' '47.8' '48.0*' '47.9' '17.9*' '44.4'\n",
      " '46.7*' '45.6' '22.2' '18.6*' '69' '37.7' '27.2' '44.8' '27.5' '25.8'\n",
      " '69.7' '52.8*' '36.4' '26.3' '32' '54.5*' '30.9*' '29.4*' '35.4' '35.7'\n",
      " '51.9' '34.5*' '48.3' '45.7*' '17.8' '16.4*' '13.4' '25.0*' '21.0*'\n",
      " '26.7' '22.8' '46.7' '41.9*' '53.4' '26.2' '23.4' '30.6' '68.9' '41.9'\n",
      " '39.9' '43.8' '38.2' '32.8' '22.1' '30.3' '66' '47.4' '39.8' '59.1*'\n",
      " '51.2' '52.4*' '75.6' '78.6*' '44.7*' '56.0*' '38.4' '52.9*' '31.5*'\n",
      " '43.8*' '20.4']\n",
      "\n",
      "Column name:  general_population_suicides\n",
      "['11452' '15687' '11940' '3711' '1420' '2254' '1775' '463' '75' '154'\n",
      " '116' '27' '43' '86' '73' '26' '175' '253' '163' '36' '46' '103' '58'\n",
      " '18' '178' '294' '233' '63' '398' '602' '487' '127' '450' '686' '571'\n",
      " '146' '49' '37' '11' '29' '20-30' '<10' '2623' '3451' '2372' '685' '346'\n",
      " '510' '347' '100' '272' '356' '239' '59' '131' '98' '149' '158' '118'\n",
      " '35' '374' '498' '381' '105' '231' '269' '165' '44' '271' '400' '260'\n",
      " '89' '76' '79' '47' '12' '52' '10-20' '433' '605' '417' '145' '64' '50'\n",
      " '30-40' '232' '320' '242' '56' '4410' '6147' '4748' '1537' '193' '261'\n",
      " '213' '65' '215' '161' '38' '40' '14' '647' '1072' '997' '430' '357'\n",
      " '340' '194' '283' '60' '205' '240' '57' '151' '113' '139' '124' '316'\n",
      " '527' '404' '123' '221' '289' '198' '281' '190' '53' '262' '286' '106'\n",
      " '1005' '1242' '808' '235' '293' '387' '328' '74' '67' '41' '2999' '3835'\n",
      " '3045' '1026' '88' '69' '333' '415' '362' '119' '1031' '1395' '1186'\n",
      " '455' '317' '376' '270' '77' '55' '16' '90' '20' '84' '25' '130' '171'\n",
      " '148' '183' '249' '243' '284' '108' '54' '24' '21' '10748' '15489'\n",
      " '11654' '3587' '1424' '2281' '1675' '435' '110' '157' '87' '313' '200'\n",
      " '61' '432' '639' '467' '111' '392' '692' '553' '140' '30' '2411' '3304'\n",
      " '2299' '688' '367' '511' '378' '101' '273' '350' '225' '70' '152' '93'\n",
      " '32' '121' '166' '370' '479' '181' '241' '185' '264' '81' '82' '48' '45'\n",
      " '359' '555' '394' '208' '291' '191' '4139' '6031' '4639' '1403' '176'\n",
      " '280' '192' '134' '138' '31' '13' '606' '1003' '995' '319' '516' '341'\n",
      " '211' '182' '219' '330' '465' '411' '203' '278' '177' '207' '66' '230'\n",
      " '268' '78' '946' '1176' '770' '290' '385' '115' '28' '2774' '3873' '3041'\n",
      " '1061' '307' '963' '1484' '1214' '466' '85' '17' '71' '135' '195' '164'\n",
      " '132' '172' '413' '304' '34' '42' '11997' '15467' '12162' '3801' '1466'\n",
      " '2157' '1768' '83' '136' '222' '33' '22' '257' '408' '598' '470' '475'\n",
      " '700' '559' '51' '39' '2759' '3445' '2473' '745' '125' '380' '263' '72'\n",
      " '174' '168' '361' '468' '369' '109' '214' '259' '345' '399' '10' '556'\n",
      " '62' '312' '217' '209' '275' '4711' '6011' '4766' '1523' '147' '159'\n",
      " '637' '1035' '1006' '396' '409' '282' '223' '180' '117' '129' '334' '488'\n",
      " '393' '112' '279' '246' '277' '410' '94' '1089' '1194' '805' '251' '3061'\n",
      " '3854' '3155' '373' '1075' '1414' '1231' '447' '344' '40-50' '91' '23'\n",
      " '15' '143' '160' '201' '358']\n",
      "\n",
      "Column name:  general_population_rate_per_100_000\n",
      "['15.4' '18.7' '17.4' '18.4' '11' '15.1' '14.2' '11.9' '9.5' '15.9' '14.3'\n",
      " '10.8' '16.3' '24.7' '20.5' '25' '10.7' '14' '10.9' '7.9' '16.2' '28.5'\n",
      " '17.5' '20.2*' '9.2' '11.8' '12.1' '8.3' '11.5' '11.6' '9.8' '15.7' '21'\n",
      " '19.1' '14.9' '10.2' '18' '15.5' '14.5*' '--' '22.8' '17' '19.8' '15.3'\n",
      " '12.9' '12.7' '17.9' '20.9' '16.9' '14.4' '20.1' '12.4' '22.2' '22.4'\n",
      " '19.6' '18.3' '19.5' '16.6' '18.5' '18.9' '12.5' '19.7' '26' '19.3'\n",
      " '21.7' '17.2' '17.1' '12' '9.5*' '21.8' '29.9' '20.3' '15.8' '18.2'\n",
      " '32.7' '18.1' '21.4' '18.6' '19.4' '20.8' '17.8' '22.3' '28.7' '16.7'\n",
      " '12.3*' '15' '20.6' '24.4' '21.3' '21.5' '22' '21.1' '13.2' '21.2' '20.2'\n",
      " '24.1' '30.2' '23.7' '23.6' '22.5' '16.8' '17.6' '17.3' '29.5' '16.4'\n",
      " '23.5' '47.3' '37.8' '25.5' '13.4' '15.6' '23.8' '26.1' '28' '15.5*' '27'\n",
      " '32.6' '25.9' '27.8' '36.1' '34' '24.8' '27.6' '29.2' '31.2' '27.2'\n",
      " '32.8' '20' '25.8' '25.4' '26.3' '33.9' '26.2' '38.1' '63.7' '14.5'\n",
      " '13.7' '11.2' '8.8' '16' '13.9' '9' '8.2' '18.5*' '10.6' '10.5' '11.4'\n",
      " '8.6' '14.7' '13' '23.9' '18.8' '12.2' '14.8' '20.4' '13.8' '23.4' '19.2'\n",
      " '10.4' '24.3' '24.2' '17.7' '12.6' '20.7' '26.6' '16.1' '11.7' '25.6'\n",
      " '21.6' '12.8' '22.1' '25.7*' '11.7*' '13.5' '21.9' '19' '10.1' '13.3'\n",
      " '28.9' '22.6' '22.7' '24' '24.9' '41.2' '28.4' '10' '16.5' '25.3' '31.5'\n",
      " '16.8*' '29.7' '29.8' '35.9' '27.5' '44.6' '36.3' '32.5' '29.4' '29.3'\n",
      " '11.3' '17.2*' '7.2' '8.1' '9.6' '8.5' '24.6*' '22.9' '25.2' '12.3'\n",
      " '13.4*' '13.6' '19.6*' '29.1' '31' '16.6*' '18.1*' '7.7*' '6.8*' '19.9'\n",
      " '24.5' '25.7' '28.1' '29.6' '29' '48.9' '23' '24.6' '11.1' '27.7' '36.2'\n",
      " '39.5' '33.1' '28.6' '49.4' '32.2' '26.7' '30.9' '33.2' '39.8' '47.1*']\n",
      "\n",
      "Column name:  year\n",
      "['2015' '2014' '2016']\n",
      "\n"
     ]
    }
   ],
   "source": [
    "for i in range(state_by_age.shape[1]):\n",
    "    print('Column name: ', state_by_age.columns[i])\n",
    "    print(state_by_age.iloc[:,i].unique())\n",
    "    print('')"
   ]
  },
  {
   "cell_type": "markdown",
   "metadata": {
    "ExecuteTime": {
     "end_time": "2019-01-07T23:41:32.547269Z",
     "start_time": "2019-01-07T23:41:32.539908Z"
    }
   },
   "source": [
    "Note: Rates are marked with an asterisk (*) when the rate is calculated based on fewer than 20 deaths. Rates based on small numbers of deaths are considered unreliable, and a small change in the number of deaths might result in a large change in the rate. Because suicide rates based on less than 20 suicide deaths are considered statistically unreliable, any comparisons of age-adjusted rates with underlying age-specific rates with less than 20 suicide deaths should also be interpreted with caution."
   ]
  },
  {
   "cell_type": "markdown",
   "metadata": {},
   "source": [
    "## Cleaning\n",
    "\n",
    "and merging with population data"
   ]
  },
  {
   "cell_type": "code",
   "execution_count": 565,
   "metadata": {
    "ExecuteTime": {
     "end_time": "2019-01-17T22:20:59.893815Z",
     "start_time": "2019-01-17T22:20:59.875191Z"
    }
   },
   "outputs": [],
   "source": [
    "# 1. Remove '<' and '-' (ranges) from veteran_suicides and general_population_suicides \n",
    "state_by_age['suicides_point_est'] = state_by_age.veteran_suicides.apply(lambda x: suicides_point_est(x))"
   ]
  },
  {
   "cell_type": "code",
   "execution_count": 566,
   "metadata": {
    "ExecuteTime": {
     "end_time": "2019-01-17T22:21:00.145368Z",
     "start_time": "2019-01-17T22:21:00.142880Z"
    }
   },
   "outputs": [],
   "source": [
    "# 2. Remove '--', '*' from rate columns "
   ]
  },
  {
   "cell_type": "code",
   "execution_count": 567,
   "metadata": {
    "ExecuteTime": {
     "end_time": "2019-01-17T22:21:02.601482Z",
     "start_time": "2019-01-17T22:21:02.597976Z"
    }
   },
   "outputs": [],
   "source": [
    "def clean_rates(cell):\n",
    "    if '*' in cell:\n",
    "        return pd.to_numeric(cell.replace('*', ''))\n",
    "    if cell==\"--\":\n",
    "        return 0\n",
    "    else:\n",
    "        return pd.to_numeric(cell)"
   ]
  },
  {
   "cell_type": "code",
   "execution_count": 568,
   "metadata": {
    "ExecuteTime": {
     "end_time": "2019-01-17T22:21:26.323239Z",
     "start_time": "2019-01-17T22:21:26.289185Z"
    }
   },
   "outputs": [],
   "source": [
    "state_by_age['vet_suicide_rate_per_100k_clean'] = state_by_age.veteran_suicide_rate_per_100_000.apply(lambda x: clean_rates(x))\n",
    "state_by_age['gen_suicide_rate_per_100k_clean'] = state_by_age.general_population_rate_per_100_000.apply(lambda x: clean_rates(x))"
   ]
  },
  {
   "cell_type": "code",
   "execution_count": 577,
   "metadata": {
    "ExecuteTime": {
     "end_time": "2019-01-17T22:23:54.157006Z",
     "start_time": "2019-01-17T22:23:54.151490Z"
    }
   },
   "outputs": [],
   "source": [
    "#Item 3: Change 'District Of Columbia' to 'District of Columbia'\n",
    "state_by_age.loc[state_by_age['state_of_death'] == 'District Of Columbia', 'state_of_death'] = 'District of Columbia'"
   ]
  },
  {
   "cell_type": "code",
   "execution_count": 573,
   "metadata": {
    "ExecuteTime": {
     "end_time": "2019-01-17T22:22:47.935524Z",
     "start_time": "2019-01-17T22:22:47.933064Z"
    }
   },
   "outputs": [],
   "source": [
    "# Item 4: Remap age bins in population file to match death by age file"
   ]
  },
  {
   "cell_type": "code",
   "execution_count": 580,
   "metadata": {
    "ExecuteTime": {
     "end_time": "2019-01-17T22:24:16.126570Z",
     "start_time": "2019-01-17T22:24:16.123301Z"
    }
   },
   "outputs": [],
   "source": [
    "age_map = {'< 20':'18-34','20-24':'18-34', '25-29':'18-34', '30-34':'18-34',\\\n",
    "           '35-39':'35-54', '40-44':'35-54', '45-49':'35-54', '50-54':'35-54',\\\n",
    "           '55-59':'55-74', '60-64':'55-74', '65-69':'55-74', '70-74':'55-74',\\\n",
    "           '75-79':'75+', '80-84':'75+', '85+':'75+'\\\n",
    "          }"
   ]
  },
  {
   "cell_type": "code",
   "execution_count": 581,
   "metadata": {
    "ExecuteTime": {
     "end_time": "2019-01-17T22:24:24.314782Z",
     "start_time": "2019-01-17T22:24:24.235584Z"
    }
   },
   "outputs": [
    {
     "name": "stdout",
     "output_type": "stream",
     "text": [
      "Last written out:  20190117_1624\n"
     ]
    }
   ],
   "source": [
    "#Rebin ages to match veterans dataset and aggregate to national level\n",
    "vet_pop_2016['age_bin_new'] = vet_pop_2016.age\n",
    "vet_pop_2016.replace({'age_bin_new': age_map}, inplace=True)\n",
    "vet_pop_by_age = vet_pop_2016.groupby(['state', 'age_bin_new'])['veterans'].sum().reset_index() \n",
    "vet_pop_by_age.veterans = pd.to_numeric(vet_pop_by_age.veterans)\n",
    "vet_pop_by_age.veterans = round(vet_pop_by_age.veterans)\n",
    "\n",
    "#join population data to 2016 suicide by gender data \n",
    "state_by_age_2016 = state_by_age[~(state_by_age.state_of_death.isin(['Total U.S.', 'All'])) & (state_by_age.year=='2016')]\n",
    "state_by_age_wide = state_by_age_2016.merge(vet_pop_by_age, how='left', left_on = ['state_of_death', 'age_group'], right_on=['state','age_bin_new'])\n",
    "assert state_by_age_wide.shape[0]==state_by_age_2016.shape[0]\n",
    "\n",
    "now = time.strftime('%Y%m%d_%H%M')\n",
    "print('Last written out: ', now)\n",
    "state_by_age_wide.to_csv(data_filepath+'data_out/'+'state_by_age_wide_%s.csv'%now, index = False)"
   ]
  },
  {
   "cell_type": "markdown",
   "metadata": {},
   "source": [
    "# Suicide by Method"
   ]
  },
  {
   "cell_type": "markdown",
   "metadata": {},
   "source": [
    "## Checks"
   ]
  },
  {
   "cell_type": "code",
   "execution_count": 583,
   "metadata": {
    "ExecuteTime": {
     "end_time": "2019-01-17T22:25:15.166781Z",
     "start_time": "2019-01-17T22:25:15.149562Z"
    }
   },
   "outputs": [
    {
     "name": "stdout",
     "output_type": "stream",
     "text": [
      "/Users/kerong/data/veteran_suicide/data_in/state_rates_vet_by_method_2014.csv\n",
      "/Users/kerong/data/veteran_suicide/data_in/state_rates_vet_by_method_2015.csv\n",
      "/Users/kerong/data/veteran_suicide/data_in/state_rates_vet_by_method_2016.csv\n"
     ]
    }
   ],
   "source": [
    "df_list = []\n",
    "for filename in glob.glob(os.path.join(data_filepath, 'data_in/','*method*.csv')):\n",
    "    print(filename)\n",
    "    year=filename.split('_')[-1].split('.')[0]\n",
    "    df = pd.read_csv(filename)\n",
    "    df['year']=year\n",
    "    df_list.append(df)"
   ]
  },
  {
   "cell_type": "code",
   "execution_count": 584,
   "metadata": {
    "ExecuteTime": {
     "end_time": "2019-01-17T22:25:15.331817Z",
     "start_time": "2019-01-17T22:25:15.326696Z"
    },
    "scrolled": false
   },
   "outputs": [
    {
     "name": "stdout",
     "output_type": "stream",
     "text": [
      "(365, 7)\n",
      "Index(['Geographic\\nRegion', 'State of Death', 'Group Method', 'Method',\n",
      "       'Suicides', 'Group \\nPercentage', 'year'],\n",
      "      dtype='object')\n",
      "(369, 7)\n",
      "Index(['Geographic\\nRegion', 'State of Death', 'Group Method',\n",
      "       'Veteran Method', 'Suicides', 'Group\\nPercentage', 'year'],\n",
      "      dtype='object')\n",
      "(369, 7)\n",
      "Index(['Geographic\\nRegion', 'State of Death', 'Group Method',\n",
      "       'Veteran Method', 'Suicides', 'Group\\nPercentage', 'year'],\n",
      "      dtype='object')\n"
     ]
    }
   ],
   "source": [
    "for i in df_list:\n",
    "    print(i.shape)\n",
    "    print(i.columns)"
   ]
  },
  {
   "cell_type": "code",
   "execution_count": 585,
   "metadata": {
    "ExecuteTime": {
     "end_time": "2019-01-17T22:25:15.564371Z",
     "start_time": "2019-01-17T22:25:15.552578Z"
    },
    "scrolled": true
   },
   "outputs": [],
   "source": [
    "state_by_method = pd.concat(df_list)"
   ]
  },
  {
   "cell_type": "code",
   "execution_count": 586,
   "metadata": {
    "ExecuteTime": {
     "end_time": "2019-01-17T22:25:17.384448Z",
     "start_time": "2019-01-17T22:25:17.377666Z"
    }
   },
   "outputs": [
    {
     "data": {
      "text/plain": [
       "Index(['geographic_region', 'group_percentage', 'group__percentage',\n",
       "       'group_method', 'method', 'state_of_death', 'suicides',\n",
       "       'veteran_method', 'year'],\n",
       "      dtype='object')"
      ]
     },
     "execution_count": 586,
     "metadata": {},
     "output_type": "execute_result"
    }
   ],
   "source": [
    "state_by_method.columns = state_by_method.columns.str.replace('\\n', '_')\n",
    "state_by_method.columns = state_by_method.columns.str.replace(' ', '_')\n",
    "state_by_method.columns = state_by_method.columns.str.replace(',', '_')\n",
    "state_by_method.columns = [i.lower() for i in state_by_method.columns]\n",
    "state_by_method.columns"
   ]
  },
  {
   "cell_type": "code",
   "execution_count": 588,
   "metadata": {
    "ExecuteTime": {
     "end_time": "2019-01-17T22:25:24.341846Z",
     "start_time": "2019-01-17T22:25:24.329759Z"
    },
    "scrolled": true
   },
   "outputs": [
    {
     "data": {
      "text/plain": [
       "Index(['geographic_region', 'group_percentage', 'group_method', 'method',\n",
       "       'state_of_death', 'suicides', 'year'],\n",
       "      dtype='object')"
      ]
     },
     "execution_count": 588,
     "metadata": {},
     "output_type": "execute_result"
    }
   ],
   "source": [
    "state_by_method.columns = state_by_method.columns.str.replace('\\n', '_')\n",
    "state_by_method.columns = state_by_method.columns.str.replace(' ', '_')\n",
    "state_by_method.columns = [i.lower() for i in state_by_method.columns]\n",
    "\n",
    "# resolve differences in naming across years\n",
    "# space between 'Group' and 'Percentage'\n",
    "state_by_method.group_percentage.fillna(state_by_method.group__percentage, inplace=True)\n",
    "state_by_method.drop(columns='group__percentage', inplace=True)\n",
    "# method vs. veteran method\n",
    "state_by_method.method.fillna(state_by_method.veteran_method, inplace=True)\n",
    "state_by_method.drop(columns='veteran_method', inplace=True)\n",
    "\n",
    "state_by_method.columns"
   ]
  },
  {
   "cell_type": "code",
   "execution_count": 589,
   "metadata": {
    "ExecuteTime": {
     "end_time": "2019-01-17T22:25:26.457531Z",
     "start_time": "2019-01-17T22:25:26.446068Z"
    }
   },
   "outputs": [
    {
     "name": "stdout",
     "output_type": "stream",
     "text": [
      "Column name:  geographic_region\n",
      "['Total U.S.' 'Northeast' 'Midwest' 'South' 'West']\n",
      "\n",
      "Column name:  group_percentage\n",
      "['16.6' '11.6' '67.0' '4.8' '23.5' '11.4' '56.8' '8.2' '52.5' '47.5'\n",
      " '36.0' '64.0' '54.1' '45.9' '48.5' '51.5' '39.0' '16.9' '44.2' '17.4'\n",
      " '57.9' '13.2' '19.3' '9.3' '63.7' '7.8' '100.0' '16.7' '12.8' '67.1'\n",
      " '3.3' '24.7' '17.6' '57.6' '76.8' '26.2' '73.8' '29.7' '70.3' '17.0'\n",
      " '65.4' '19.8' '18.7' '61.5' '14.0' '72.1' '21.7' '78.3' '15.8' '18.4'\n",
      " '65.8' '17.5' '15.1' '9.5' '71.7' '3.7' '19.6' '80.4' '75.3' '--' '15.6'\n",
      " '14.2' '65.9' '4.3' '11.7' '79.0' '16.3' '72.4' '20.4' '79.6' '13.0'\n",
      " '71.4' '27.9' '15.7' '11.9' '16.5' '66.1' '11.8' '10.0' '78.2' '12.9'\n",
      " '75.7' '18.0' '6.9' '71.3' '3.9' '70.9' '32.3' '67.7' '15.5' '13.8'\n",
      " '64.7' '6.0' '72.0' '18.1' '14.4' '59.8' '7.7' '16.1' '67.3' '28.9'\n",
      " '71.1' '16.0' '23.0' '61.0' '14.8' '69.1' '14.7' '20.0' '17.1' '62.9'\n",
      " '19.0' '57.5' '8.0' '25.9' '50.3' '7.6' '33.8' '17.9' '35.9' '12.4'\n",
      " '35.7' '22.3' '33.2' '8.8' '53.8' '6.1' '46.4' '19.1' '12.2' '27.7'\n",
      " '19.4' '45.5' '7.4' '42.0' '25.0' '36.2' '28.3' '25.7' '16.4' '49.5'\n",
      " '8.4' '42.1' '20.6' '20.7' '48.3' '12.1' '27.4' '6.5' '34.0' '37.7'\n",
      " '23.1' '56.1' '5.2' '31.3' '47.3' '26.3' '52.8' '26.6' '49.8' '6.2'\n",
      " '28.6' '17.7' '45.1' '8.6' '23.2' '58.3' '4.1' '13.5' '54.4' '5.5' '23.7'\n",
      " '63.4' '27.5' '50.8' '55.6' '26.4' '46.3' '21.6' '58.2' '5.8' '8.9'\n",
      " '67.6' '3.1' '21.0' '62.7' '4.6' '28.0' '24.8' '47.2' '42.3' '26.9'\n",
      " '30.8' '22.5' '50.7' '16.8' '65.5' '4.7' '19.7' '10.1' '64.6' '5.6'\n",
      " '18.5' '9.8' '66.3' '30.0' '45.6' '7.5' '9.1' '66.0' '18.8' '56.5' '4.2'\n",
      " '23.8' '12.6' '59.7' '4.0' '18.6' '63.5' '17.3' '4.4' '25.1' '55.8' '7.1'\n",
      " '20.2' '60.4' '26.7' '46.8' '12.5' '70.0' '22.9' '16.2' '55.4' '5.4'\n",
      " '31.8' '18.2' '37.8' '24.1' '50.0' '5.3' '49.7' '21.2' '57.0' '59.6'\n",
      " '17.8' '5.9' '25.8' '14.5' '54.8' '22.8' '15.4' '54.0' '23.3' '20.8'\n",
      " '50.4' '18.9' '48.9' '9.2' '14.3' '21.4' '64.3' '15.9' '11.3' '5.7'\n",
      " '19.2' '60.5' '40.0' '32.5' '23.4' '76.6' '37.1' '32.4' '23.9' '43.7'\n",
      " '46.1' '76.1' '7.0' '12.0' '64.5' '5.1' '20.1' '55.2' '10.4' '66.7'\n",
      " '20.3' '21.9' '57.8' '14.9' '65.7' '24.6' '13.7' '61.7' '21.1' '18.3'\n",
      " '60.6' '72.2' '64.2' '9.6' '81.6' '64.1' '13.6' '66.4' '11.5' '73.6'\n",
      " '9.4' '79.8' '25.3' '15.2' '59.5' '17.2' '82.8' '10.7' '76.0' '70.7'\n",
      " '10.3' '77.0' '4.9' '73.3' '82.5' '63.0' '6.6' '13.3' '73.9' '6.3' '78.9'\n",
      " '32.6' '67.4' '75.0' '30.4' '69.6' '19.5' '64.4' '35.0' '65.0' '56.7'\n",
      " '50.1' '33.3' '34.8' '33.6' '22.6' '55.7' '48.2' '12.3' '24.4' '22.2'\n",
      " '47.1' '40.8' '24.5' '36.4' '25.5' '25.6' '49.2' '23.6' '10.6' '27.6'\n",
      " '48.8' '36.8' '10.5' '54.2' '6.4' '31.1' '44.9' '29.3' '47.4' '6.7'\n",
      " '28.4' '49.3' '30.2' '41.9' '58.1' '50.9' '60.7' '36.9' '44.6' '7.9'\n",
      " '22.1' '58.5' '8.5' '70.4' '3.8' '58.7' '46.2' '37.5' '51.1' '63.1' '3.5'\n",
      " '65.3' '28.5' '45.3' '68.8' '56.3' '63.2' '20.9' '60.3' '59.0' '63.6'\n",
      " '27.3' '46.6' '13.1' '61.3' '32.7' '49.4' '48.7' '53.0' '49.1' '22.7'\n",
      " '47.6' '15.0' '69.4' '57.4' '58.6' '41.4' '39.7' '25.4' '11.0' '9.9'\n",
      " '24.3' '60.0' '68.6' '54.7' '72.7' '68.2' '74.7' '81.3' '13.4' '72.6'\n",
      " '75.2' '75.9' '84.0' '22.4' '67.9' '81.8' '76.7' '7.2' '3.4' '80.0'\n",
      " '68.5' '9.7' '79.3' '68.0' '70.5' '60.9' '31.4' '37.0' '27.8' '21.5'\n",
      " '41.1' '34.1' '29.5' '49.6' '34.7' '28.2' '51.2' '3.2' '8.1' '53.3'\n",
      " '30.1' '44.8' '7.3' '47.8' '29.9' '54.5' '15.3' '32.1' '53.2' '52.6'\n",
      " '59.4' '69.8' '21.3' '60.1' '53.5' '10.9' '62.6' '3.6' '43.1' '70.8'\n",
      " '62.8' '64.8' '4.5' '60.8' '8.7' '26.5' '60.2' '52.9' '24.0' '62.0'\n",
      " '51.7' '26.8' '52.0' '54.3' '11.1']\n",
      "\n",
      "Column name:  group_method\n",
      "['Veteran Method' 'General Population Method']\n",
      "\n",
      "Column name:  method\n",
      "['Suffocation' 'Poisoning' 'Firearms' 'Other suicide'\n",
      " 'Other and low-count methods' 'Other Suicide']\n",
      "\n",
      "Column name:  state_of_death\n",
      "['Total U.S.' 'All' 'Connecticut' 'Maine' 'Massachusetts' 'New Hampshire'\n",
      " 'New Jersey' 'New York' 'Pennsylvania' 'Rhode Island' 'Vermont'\n",
      " 'Illinois' 'Indiana' 'Iowa' 'Kansas' 'Michigan' 'Minnesota' 'Missouri'\n",
      " 'Nebraska' 'North Dakota' 'Ohio' 'South Dakota' 'Wisconsin' 'Alabama'\n",
      " 'Arkansas' 'Delaware' 'District of Columbia' 'Florida' 'Georgia'\n",
      " 'Kentucky' 'Louisiana' 'Maryland' 'Mississippi' 'North Carolina'\n",
      " 'Oklahoma' 'South Carolina' 'Tennessee' 'Texas' 'Virginia'\n",
      " 'West Virginia' 'Alaska' 'Arizona' 'California' 'Colorado' 'Hawaii'\n",
      " 'Idaho' 'Montana' 'Nevada' 'New Mexico' 'Oregon' 'Utah' 'Washington'\n",
      " 'Wyoming' 'District Of Columbia']\n",
      "\n",
      "Column name:  suicides\n",
      "['1,038' '727' '4,196' '299' '177' '86' '427' '62' '21' '19' '18' '32'\n",
      " '33' '28' '16' '17' '30' '13' '34' '22' '110' '25' '52' '172' '11' '20'\n",
      " '217' '166' '870' '43' '42' '98' '48' '45' '123' '56' '129' '10' '36'\n",
      " '150' '75' '377' '237' '1,787' '91' '78' '64' '<10' '80' '73' '338' '15'\n",
      " '128' '14' '89' '74' '12' '55' '44' '29' '134' '106' '84' '333' '122'\n",
      " '267' '238' '1,112' '103' '108' '357' '46' '27' '113' '23' '61' '92'\n",
      " '100' '10,730' '6,742' '20,853' '3,153' '1,966' '1,039' '2,089' '721'\n",
      " '133' '83' '124' '114' '70' '67' '47' '321' '145' '191' '107' '597' '289'\n",
      " '466' '297' '457' '291' '880' '149' '24' '2,388' '1,441' '4,309' '564'\n",
      " '461' '258' '512' '126' '212' '143' '515' '186' '116' '65' '233' '346'\n",
      " '226' '647' '81' '184' '290' '227' '141' '571' '40' '63' '31' '394' '225'\n",
      " '37' '194' '142' '341' '59' '3,507' '2,335' '9,429' '941' '473' '104'\n",
      " '58' '311' '35' '670' '566' '1,509' '229' '164' '829' '60' '72' '462'\n",
      " '121' '434' '269' '76' '246' '738' '168' '422' '135' '88' '125' '634'\n",
      " '786' '403' '1,746' '192' '221' '174' '612' '77' '51' '209' '2,869'\n",
      " '1,927' '5,026' '927' '112' '277' '196' '669' '1,312' '751' '1,561' '503'\n",
      " '251' '215' '521' '53' '41' '302' '173' '117' '409' '109' '264' '249'\n",
      " '205' '531' '974' '694' '4,099' '348' '127' '79' '401' '38' '26' '175'\n",
      " '144' '777' '85' '130' '68' '366' '1,924' '102' '370' '138' '82' '111'\n",
      " '392' '260' '222' '997' '156' '286' '96' '39' '101' '11,195' '6,732'\n",
      " '21,449' '3,414' '1,971' '1,102' '2,059' '780' '132' '50' '313' '188'\n",
      " '118' '587' '306' '412' '309' '474' '294' '911' '2,522' '1,504' '4,458'\n",
      " '443' '243' '480' '137' '240' '502' '185' '218' '385' '214' '161' '593'\n",
      " '66' '402' '241' '844' '158' '416' '3,729' '2,238' '9,846' '1,029' '330'\n",
      " '54' '733' '562' '1,609' '242' '255' '152' '798' '69' '482' '454' '153'\n",
      " '97' '71' '285' '271' '771' '453' '136' '456' '216' '624' '805' '1,942'\n",
      " '239' '609' '211' '2,973' '1,888' '5,086' '958' '49' '261' '208' '690'\n",
      " '1,330' '693' '1,537' '507' '272' '514' '95' '57' '206' '165' '120' '266'\n",
      " '190' '364' '292' '202' '90' '912' '642' '4,217' '308' '93' '396' '170'\n",
      " '187' '791' '344' '1,951' '232' '1,079' '180' '315' '119' '1,852' '1,103'\n",
      " '2,176' '758' '276' '550' '284' '477' '304' '470' '340' '947' '2,514'\n",
      " '1,457' '4,784' '667' '463' '491' '254' '576' '248' '312' '210' '697'\n",
      " '319' '256' '157' '630' '404' '897' '437' '3,601' '2,209' '10,104'\n",
      " '1,097' '537' '632' '519' '1,644' '279' '274' '147' '846' '479' '431'\n",
      " '162' '245' '259' '767' '499' '148' '513' '651' '784' '393' '1,954' '235'\n",
      " '140' '649' '2,939' '1,854' '5,239' '1,073' '178' '744' '1,309' '696'\n",
      " '1,563' '599' '281' '204' '155' '326' '169' '146' '115']\n",
      "\n",
      "Column name:  year\n",
      "['2014' '2015' '2016']\n",
      "\n"
     ]
    }
   ],
   "source": [
    "for i in range(state_by_method.shape[1]):\n",
    "    print('Column name: ', state_by_method.columns[i])\n",
    "    print(state_by_method.iloc[:,i].unique())\n",
    "    print('')"
   ]
  },
  {
   "cell_type": "markdown",
   "metadata": {},
   "source": [
    "## Cleaning"
   ]
  },
  {
   "cell_type": "code",
   "execution_count": 590,
   "metadata": {
    "ExecuteTime": {
     "end_time": "2019-01-17T22:25:29.843627Z",
     "start_time": "2019-01-17T22:25:29.808003Z"
    }
   },
   "outputs": [],
   "source": [
    "#Item 1. clean and numericalize suicides \n",
    "state_by_method.suicides = state_by_method.suicides.apply(lambda x: pd.to_numeric(x.replace(',','').replace('<10','0')))"
   ]
  },
  {
   "cell_type": "code",
   "execution_count": 591,
   "metadata": {
    "ExecuteTime": {
     "end_time": "2019-01-17T22:25:30.230814Z",
     "start_time": "2019-01-17T22:25:30.225067Z"
    }
   },
   "outputs": [],
   "source": [
    "#Item 2. Remove * from group percentages \n",
    "state_by_method.group_percentage = state_by_method.group_percentage.apply(lambda x: x.replace('--', '0'))\n",
    "state_by_method.group_percentage = pd.to_numeric(state_by_method.group_percentage)"
   ]
  },
  {
   "cell_type": "code",
   "execution_count": 594,
   "metadata": {
    "ExecuteTime": {
     "end_time": "2019-01-17T22:46:33.661540Z",
     "start_time": "2019-01-17T22:46:33.656275Z"
    }
   },
   "outputs": [],
   "source": [
    "#Item 3: Change 'District Of Columbia' to 'District of Columbia'\n",
    "state_by_method.loc[state_by_method['state_of_death'] == 'District Of Columbia', 'state_of_death'] = 'District of Columbia'"
   ]
  },
  {
   "cell_type": "code",
   "execution_count": 602,
   "metadata": {
    "ExecuteTime": {
     "end_time": "2019-01-17T22:48:11.446777Z",
     "start_time": "2019-01-17T22:48:11.442794Z"
    }
   },
   "outputs": [],
   "source": [
    "state_by_method_small = state_by_method[~(state_by_method.state_of_death.isin(['Total U.S.', 'All']))]"
   ]
  },
  {
   "cell_type": "markdown",
   "metadata": {
    "ExecuteTime": {
     "end_time": "2019-01-11T21:14:01.681410Z",
     "start_time": "2019-01-11T21:14:01.657594Z"
    }
   },
   "source": [
    "`vet_pop_2016` obviously doesn't have suicide method information, so no joins for this attribute."
   ]
  },
  {
   "cell_type": "code",
   "execution_count": 605,
   "metadata": {
    "ExecuteTime": {
     "end_time": "2019-01-17T22:48:24.022166Z",
     "start_time": "2019-01-17T22:48:24.011319Z"
    },
    "scrolled": true
   },
   "outputs": [
    {
     "name": "stdout",
     "output_type": "stream",
     "text": [
      "Last written out:  20190117_1648\n"
     ]
    }
   ],
   "source": [
    "now = time.strftime('%Y%m%d_%H%M')\n",
    "print('Last written out: ', now)\n",
    "state_by_method_small.to_csv(data_filepath+'data_out/'+'state_by_method_%s.csv'%now, index = False)"
   ]
  },
  {
   "cell_type": "markdown",
   "metadata": {},
   "source": [
    "# VA Expenditure"
   ]
  },
  {
   "cell_type": "code",
   "execution_count": 606,
   "metadata": {
    "ExecuteTime": {
     "end_time": "2019-01-17T22:48:41.264827Z",
     "start_time": "2019-01-17T22:48:41.257392Z"
    }
   },
   "outputs": [],
   "source": [
    "va_spend_2016 = pd.read_csv(data_filepath+'data_in/'+ 'va_expenditure_2016.csv')"
   ]
  },
  {
   "cell_type": "code",
   "execution_count": 607,
   "metadata": {
    "ExecuteTime": {
     "end_time": "2019-01-17T22:48:41.759442Z",
     "start_time": "2019-01-17T22:48:41.750959Z"
    }
   },
   "outputs": [],
   "source": [
    "va_spend_2016.columns = va_spend_2016.columns.str.replace('\\**', '')\n",
    "va_spend_2016.columns = va_spend_2016.columns.str.replace('*', '')\n",
    "va_spend_2016.columns = va_spend_2016.columns.str.replace('#', '')\n",
    "va_spend_2016.columns = va_spend_2016.columns.str.strip()\n",
    "va_spend_2016.columns = va_spend_2016.columns.str.replace('/ ', '/')\n",
    "va_spend_2016.columns = va_spend_2016.columns.str.replace('/', '_')\n",
    "va_spend_2016.columns = va_spend_2016.columns.str.replace(' ', '_')\n",
    "va_spend_2016.columns = va_spend_2016.columns.str.replace('#', '')\n",
    "va_spend_2016.columns = [i.lower() for i in va_spend_2016.columns]\n",
    "va_spend_2016 = va_spend_2016.loc[:, ~va_spend_2016.columns.str.startswith('unnamed')]"
   ]
  },
  {
   "cell_type": "code",
   "execution_count": 610,
   "metadata": {
    "ExecuteTime": {
     "end_time": "2019-01-17T22:49:14.055346Z",
     "start_time": "2019-01-17T22:49:14.052056Z"
    }
   },
   "outputs": [],
   "source": [
    "va_spend_2016=va_spend_2016[~pd.isnull(va_spend_2016.state)] #empty rows from excel output"
   ]
  },
  {
   "cell_type": "code",
   "execution_count": 619,
   "metadata": {
    "ExecuteTime": {
     "end_time": "2019-01-17T22:50:25.921346Z",
     "start_time": "2019-01-17T22:50:25.706415Z"
    }
   },
   "outputs": [],
   "source": [
    "va_spend_2016.state = va_spend_2016.state.apply(lambda x: x.strip()) #clean different alignments "
   ]
  },
  {
   "cell_type": "code",
   "execution_count": 620,
   "metadata": {
    "ExecuteTime": {
     "end_time": "2019-01-17T22:50:36.779348Z",
     "start_time": "2019-01-17T22:50:36.773246Z"
    }
   },
   "outputs": [
    {
     "name": "stdout",
     "output_type": "stream",
     "text": [
      "Last written out:  20190117_1650\n"
     ]
    }
   ],
   "source": [
    "now = time.strftime('%Y%m%d_%H%M')\n",
    "print('Last written out: ', now)\n",
    "va_spend_2016.to_csv(data_filepath+'data_out/'+'va_spend_2016_%s.csv'%now, index = False)"
   ]
  },
  {
   "cell_type": "code",
   "execution_count": null,
   "metadata": {},
   "outputs": [],
   "source": []
  }
 ],
 "metadata": {
  "kernelspec": {
   "display_name": "Python 3",
   "language": "python",
   "name": "python3"
  },
  "language_info": {
   "codemirror_mode": {
    "name": "ipython",
    "version": 3
   },
   "file_extension": ".py",
   "mimetype": "text/x-python",
   "name": "python",
   "nbconvert_exporter": "python",
   "pygments_lexer": "ipython3",
   "version": "3.6.7"
  },
  "toc": {
   "base_numbering": 1,
   "nav_menu": {},
   "number_sections": true,
   "sideBar": true,
   "skip_h1_title": false,
   "title_cell": "Table of Contents",
   "title_sidebar": "Contents",
   "toc_cell": false,
   "toc_position": {
    "height": "calc(100% - 180px)",
    "left": "10px",
    "top": "150px",
    "width": "335.99px"
   },
   "toc_section_display": true,
   "toc_window_display": true
  }
 },
 "nbformat": 4,
 "nbformat_minor": 2
}
