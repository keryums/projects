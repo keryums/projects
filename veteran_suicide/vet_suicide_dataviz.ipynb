{
 "cells": [
  {
   "cell_type": "code",
   "execution_count": 175,
   "metadata": {
    "ExecuteTime": {
     "end_time": "2019-01-17T23:00:17.837724Z",
     "start_time": "2019-01-17T23:00:17.832986Z"
    }
   },
   "outputs": [],
   "source": [
    "import sys\n",
    "sys.path.insert(0, '/Users/kerong/')\n",
    "from helper import *\n",
    "\n",
    "import warnings\n",
    "warnings.filterwarnings(\"ignore\")\n",
    "\n",
    "import os\n",
    "import glob\n",
    "import pandas as pd\n",
    "import numpy as np\n",
    "\n",
    "import matplotlib.pyplot as plt\n",
    "import seaborn as sns\n",
    "\n",
    "import plotly.plotly as py\n",
    "plotly.tools.set_credentials_file(username='keryums', api_key='G5YsVJOebOZh0nhwk44q')\n",
    "\n",
    "import numpy as np\n",
    "from statsmodels.stats.proportion import proportions_ztest"
   ]
  },
  {
   "cell_type": "code",
   "execution_count": 176,
   "metadata": {
    "ExecuteTime": {
     "end_time": "2019-01-17T23:00:18.105783Z",
     "start_time": "2019-01-17T23:00:18.101772Z"
    }
   },
   "outputs": [],
   "source": [
    "data_filepath = '/Users/kerong/data/veteran_suicide/data_out/'"
   ]
  },
  {
   "cell_type": "code",
   "execution_count": 177,
   "metadata": {
    "ExecuteTime": {
     "end_time": "2019-01-17T23:00:18.388255Z",
     "start_time": "2019-01-17T23:00:18.382847Z"
    },
    "scrolled": true
   },
   "outputs": [
    {
     "name": "stdout",
     "output_type": "stream",
     "text": [
      "/Users/kerong/data/veteran_suicide/data_out/state_by_age_wide_20190117_1624.csv\n",
      "/Users/kerong/data/veteran_suicide/data_out/va_spend_2016_20190117_1650.csv\n",
      "/Users/kerong/data/veteran_suicide/data_out/state_by_method_20190117_1648.csv\n",
      "/Users/kerong/data/veteran_suicide/data_out/state_by_sex_wide_20190117_1620.csv\n"
     ]
    }
   ],
   "source": [
    "for filename in glob.glob(os.path.join(data_filepath, '*.csv')):\n",
    "    print(filename)"
   ]
  },
  {
   "cell_type": "code",
   "execution_count": 179,
   "metadata": {
    "ExecuteTime": {
     "end_time": "2019-01-17T23:01:02.424009Z",
     "start_time": "2019-01-17T23:01:02.386062Z"
    }
   },
   "outputs": [],
   "source": [
    "state_by_age = pd.read_csv('/Users/kerong/data/veteran_suicide/data_out/state_by_age_wide_20190117_1624.csv')\n",
    "state_by_sex = pd.read_csv('/Users/kerong/data/veteran_suicide/data_out/state_by_sex_wide_20190117_1620.csv')\n",
    "state_by_method = pd.read_csv('/Users/kerong/data/veteran_suicide/data_out/state_by_method_20190117_1648.csv')"
   ]
  },
  {
   "cell_type": "markdown",
   "metadata": {},
   "source": [
    "# Suicides by Sex"
   ]
  },
  {
   "cell_type": "markdown",
   "metadata": {},
   "source": [
    "## Comparison of Rates"
   ]
  },
  {
   "cell_type": "markdown",
   "metadata": {},
   "source": [
    "Since each 10 count bin is indicated by its lower bound, let's estimate a point estimate for each state using the bin's mean/median."
   ]
  },
  {
   "cell_type": "code",
   "execution_count": 180,
   "metadata": {
    "ExecuteTime": {
     "end_time": "2019-01-17T23:03:51.583269Z",
     "start_time": "2019-01-17T23:03:51.554923Z"
    },
    "scrolled": true
   },
   "outputs": [
    {
     "data": {
      "text/html": [
       "<div>\n",
       "<style scoped>\n",
       "    .dataframe tbody tr th:only-of-type {\n",
       "        vertical-align: middle;\n",
       "    }\n",
       "\n",
       "    .dataframe tbody tr th {\n",
       "        vertical-align: top;\n",
       "    }\n",
       "\n",
       "    .dataframe thead th {\n",
       "        text-align: right;\n",
       "    }\n",
       "</style>\n",
       "<table border=\"1\" class=\"dataframe\">\n",
       "  <thead>\n",
       "    <tr style=\"text-align: right;\">\n",
       "      <th></th>\n",
       "      <th>sex</th>\n",
       "      <th>suicides_point_est</th>\n",
       "    </tr>\n",
       "  </thead>\n",
       "  <tbody>\n",
       "    <tr>\n",
       "      <th>0</th>\n",
       "      <td>Female</td>\n",
       "      <td>106.0</td>\n",
       "    </tr>\n",
       "    <tr>\n",
       "      <th>1</th>\n",
       "      <td>Male</td>\n",
       "      <td>5779.0</td>\n",
       "    </tr>\n",
       "  </tbody>\n",
       "</table>\n",
       "</div>"
      ],
      "text/plain": [
       "      sex  suicides_point_est\n",
       "0  Female               106.0\n",
       "1    Male              5779.0"
      ]
     },
     "execution_count": 180,
     "metadata": {},
     "output_type": "execute_result"
    }
   ],
   "source": [
    "suicides_by_sex = state_by_sex.groupby('sex')['suicides_point_est'].sum().reset_index()\n",
    "suicides_by_sex"
   ]
  },
  {
   "cell_type": "code",
   "execution_count": 181,
   "metadata": {
    "ExecuteTime": {
     "end_time": "2019-01-17T23:08:17.249554Z",
     "start_time": "2019-01-17T23:08:17.063084Z"
    },
    "scrolled": false
   },
   "outputs": [
    {
     "data": {
      "image/png": "[encoded data removed]",
      "text/plain": [
       "<Figure size 432x288 with 1 Axes>"
      ]
     },
     "metadata": {
      "needs_background": "light"
     },
     "output_type": "display_data"
    }
   ],
   "source": [
    "suicides_by_sex.sort_values(by='sex', ascending=False, inplace=True) #sort for plotting \n",
    "ax = sns.barplot(x='sex', y='suicides_point_est', data = suicides_by_sex[~(suicides_by_sex.sex=='Total')])\n",
    "ax.set_title('Veteran Suicides by Sex')\n",
    "ax.set_xlabel('Sex')\n",
    "ax.set_ylabel('Estimated Suicides')\n",
    "plt.show()"
   ]
  },
  {
   "cell_type": "markdown",
   "metadata": {
    "ExecuteTime": {
     "end_time": "2019-01-10T16:48:13.398625Z",
     "start_time": "2019-01-10T16:48:13.395537Z"
    }
   },
   "source": [
    "__Notice the disparity in suicides by gender. Is this wholly explicable by differences in the number of male and female veterans?__\n",
    "\n",
    "As the VA did not publish suicide rates by gender (unlike it does for the other attributes, age and suicide method), let's calculate this by pulling in a veteran population table. We consider population figures as of September 2015 since this is the population from which suicides in 2016 occurred. "
   ]
  },
  {
   "cell_type": "code",
   "execution_count": 187,
   "metadata": {
    "ExecuteTime": {
     "end_time": "2019-01-17T23:09:15.090073Z",
     "start_time": "2019-01-17T23:09:15.080285Z"
    }
   },
   "outputs": [
    {
     "data": {
      "text/html": [
       "<div>\n",
       "<style scoped>\n",
       "    .dataframe tbody tr th:only-of-type {\n",
       "        vertical-align: middle;\n",
       "    }\n",
       "\n",
       "    .dataframe tbody tr th {\n",
       "        vertical-align: top;\n",
       "    }\n",
       "\n",
       "    .dataframe thead th {\n",
       "        text-align: right;\n",
       "    }\n",
       "</style>\n",
       "<table border=\"1\" class=\"dataframe\">\n",
       "  <thead>\n",
       "    <tr style=\"text-align: right;\">\n",
       "      <th></th>\n",
       "      <th>sex</th>\n",
       "      <th>veterans</th>\n",
       "    </tr>\n",
       "  </thead>\n",
       "  <tbody>\n",
       "    <tr>\n",
       "      <th>0</th>\n",
       "      <td>Female</td>\n",
       "      <td>63642419.0</td>\n",
       "    </tr>\n",
       "    <tr>\n",
       "      <th>1</th>\n",
       "      <td>Male</td>\n",
       "      <td>421985510.0</td>\n",
       "    </tr>\n",
       "  </tbody>\n",
       "</table>\n",
       "</div>"
      ],
      "text/plain": [
       "      sex     veterans\n",
       "0  Female   63642419.0\n",
       "1    Male  421985510.0"
      ]
     },
     "execution_count": 187,
     "metadata": {},
     "output_type": "execute_result"
    }
   ],
   "source": [
    "total_by_sex = state_by_sex.groupby('sex')['veterans'].sum().reset_index()\n",
    "total_by_sex"
   ]
  },
  {
   "cell_type": "code",
   "execution_count": 183,
   "metadata": {
    "ExecuteTime": {
     "end_time": "2019-01-17T23:08:19.487599Z",
     "start_time": "2019-01-17T23:08:19.366792Z"
    },
    "scrolled": true
   },
   "outputs": [
    {
     "data": {
      "image/png": "[encoded data removed]",
      "text/plain": [
       "<Figure size 432x288 with 1 Axes>"
      ]
     },
     "metadata": {
      "needs_background": "light"
     },
     "output_type": "display_data"
    }
   ],
   "source": [
    "total_by_sex.sort_values(by='sex', ascending=False, inplace=True) #sort for plotting \n",
    "ax = sns.barplot(x='sex', y='veterans', data = total_by_sex)\n",
    "ax.set_title('Total Veterans by Sex')\n",
    "ax.set_xlabel('Sex')\n",
    "ax.set_ylabel('Number of Veterans')\n",
    "plt.show()"
   ]
  },
  {
   "cell_type": "markdown",
   "metadata": {
    "ExecuteTime": {
     "end_time": "2019-01-14T18:03:46.238435Z",
     "start_time": "2019-01-14T18:03:46.234666Z"
    }
   },
   "source": [
    "__Is the proportion the same?__"
   ]
  },
  {
   "cell_type": "code",
   "execution_count": 184,
   "metadata": {
    "ExecuteTime": {
     "end_time": "2019-01-17T23:08:21.609671Z",
     "start_time": "2019-01-17T23:08:21.595098Z"
    },
    "scrolled": true
   },
   "outputs": [],
   "source": [
    "counts_by_sex = state_by_sex.groupby('sex')[['suicides_point_est', 'veterans']].sum().reset_index()\n",
    "rate_by_sex = counts_by_sex[['suicides_point_est', 'veterans']].apply(lambda x: x[0]/x[1], axis=1).reset_index()\n",
    "sex_map = {0:'female',1:'male'} \n",
    "rate_by_sex.replace({'index': sex_map}, inplace=True)\n",
    "rate_by_sex.rename(columns = {'index':'sex', 0:'rate'}, inplace=True)"
   ]
  },
  {
   "cell_type": "code",
   "execution_count": 185,
   "metadata": {
    "ExecuteTime": {
     "end_time": "2019-01-17T23:08:21.949566Z",
     "start_time": "2019-01-17T23:08:21.943062Z"
    }
   },
   "outputs": [
    {
     "data": {
      "text/html": [
       "<div>\n",
       "<style scoped>\n",
       "    .dataframe tbody tr th:only-of-type {\n",
       "        vertical-align: middle;\n",
       "    }\n",
       "\n",
       "    .dataframe tbody tr th {\n",
       "        vertical-align: top;\n",
       "    }\n",
       "\n",
       "    .dataframe thead th {\n",
       "        text-align: right;\n",
       "    }\n",
       "</style>\n",
       "<table border=\"1\" class=\"dataframe\">\n",
       "  <thead>\n",
       "    <tr style=\"text-align: right;\">\n",
       "      <th></th>\n",
       "      <th>sex</th>\n",
       "      <th>rate</th>\n",
       "    </tr>\n",
       "  </thead>\n",
       "  <tbody>\n",
       "    <tr>\n",
       "      <th>0</th>\n",
       "      <td>female</td>\n",
       "      <td>0.000002</td>\n",
       "    </tr>\n",
       "    <tr>\n",
       "      <th>1</th>\n",
       "      <td>male</td>\n",
       "      <td>0.000014</td>\n",
       "    </tr>\n",
       "  </tbody>\n",
       "</table>\n",
       "</div>"
      ],
      "text/plain": [
       "      sex      rate\n",
       "0  female  0.000002\n",
       "1    male  0.000014"
      ]
     },
     "execution_count": 185,
     "metadata": {},
     "output_type": "execute_result"
    }
   ],
   "source": [
    "rate_by_sex"
   ]
  },
  {
   "cell_type": "code",
   "execution_count": 186,
   "metadata": {
    "ExecuteTime": {
     "end_time": "2019-01-17T23:08:22.734140Z",
     "start_time": "2019-01-17T23:08:22.620553Z"
    },
    "scrolled": true
   },
   "outputs": [
    {
     "data": {
      "image/png": "[encoded data removed]",
      "text/plain": [
       "<Figure size 432x288 with 1 Axes>"
      ]
     },
     "metadata": {
      "needs_background": "light"
     },
     "output_type": "display_data"
    }
   ],
   "source": [
    "rate_by_sex.sort_values(by='sex', ascending=False, inplace=True) #sort for plotting \n",
    "ax = sns.barplot(x='sex', y='rate', data = rate_by_sex)\n",
    "ax.set_title('Suicide Rate by Sex')\n",
    "ax.set_xlabel('Sex')\n",
    "ax.set_ylabel('Suicide Rate')\n",
    "plt.show()"
   ]
  },
  {
   "cell_type": "markdown",
   "metadata": {
    "ExecuteTime": {
     "end_time": "2019-01-10T22:21:28.859505Z",
     "start_time": "2019-01-10T22:21:28.855027Z"
    }
   },
   "source": [
    "The chart above shows a different in rates of suicide between male and female veterans. Let's formalize this with a test of proportions to see if the difference in rates are statistically significantly."
   ]
  },
  {
   "cell_type": "code",
   "execution_count": 190,
   "metadata": {
    "ExecuteTime": {
     "end_time": "2019-01-17T23:11:11.839501Z",
     "start_time": "2019-01-17T23:11:11.835584Z"
    }
   },
   "outputs": [
    {
     "name": "stdout",
     "output_type": "stream",
     "text": [
      "p-value of test: 0.000\n"
     ]
    }
   ],
   "source": [
    "count = np.array(counts_by_sex.suicides_point_est)\n",
    "nobs = np.array(counts_by_sex.veterans)\n",
    "stat, pval = proportions_ztest(count,nobs)\n",
    "\n",
    "print('p-value of test: {0:0.3f}'.format(pval))"
   ]
  },
  {
   "cell_type": "markdown",
   "metadata": {},
   "source": [
    "According to our statistical test, we fail to reject the hypothesis that there is a significant difference between rates of suicide for male and female veterans. We can extrapolate from this that gender is a differentiating factor in suicide occurrence."
   ]
  },
  {
   "cell_type": "markdown",
   "metadata": {},
   "source": [
    "## Map of Rates"
   ]
  },
  {
   "cell_type": "code",
   "execution_count": 192,
   "metadata": {
    "ExecuteTime": {
     "end_time": "2019-01-17T23:13:08.305847Z",
     "start_time": "2019-01-17T23:13:08.298285Z"
    },
    "scrolled": true
   },
   "outputs": [],
   "source": [
    "# suicide rate per state\n",
    "state_by_sex['suicide_rate']=state_by_sex[['suicides_point_est', 'veterans']].apply(lambda x: x[0]/x[1], axis=1)"
   ]
  },
  {
   "cell_type": "code",
   "execution_count": 205,
   "metadata": {
    "ExecuteTime": {
     "end_time": "2019-01-18T18:06:20.337772Z",
     "start_time": "2019-01-18T18:06:20.330802Z"
    }
   },
   "outputs": [],
   "source": [
    "state_rates=state_by_sex.groupby('state_code')[['suicides_point_est', 'veterans']].sum().reset_index()"
   ]
  },
  {
   "cell_type": "code",
   "execution_count": 208,
   "metadata": {
    "ExecuteTime": {
     "end_time": "2019-01-18T18:10:21.590436Z",
     "start_time": "2019-01-18T18:10:21.586488Z"
    }
   },
   "outputs": [],
   "source": [
    "state_rates['suicide_rate'] = state_rates.suicides_point_est/state_rates.veterans"
   ]
  },
  {
   "cell_type": "code",
   "execution_count": 220,
   "metadata": {
    "ExecuteTime": {
     "end_time": "2019-01-18T18:26:17.963603Z",
     "start_time": "2019-01-18T18:26:17.959274Z"
    }
   },
   "outputs": [],
   "source": [
    "data = [ dict(type='choropleth',\n",
    "              colorscale='Viridis',\n",
    "              autocolorscale=False,\n",
    "              locations=state_rates['state_code'],\n",
    "              z=state_rates['suicide_rate'],\n",
    "              locationmode = 'USA-states'\n",
    "             )\n",
    "       ]\n",
    "\n",
    "layout = dict(title = 'Plot of Suicide Rates by State ',\n",
    "             geo = dict(scope='usa',\n",
    "                       projection=dict(type='albers usa'),\n",
    "                       showlakes=True,\n",
    "                       lakecolor='rgb(255,255,255)'))\n",
    "\n",
    "fig = dict(data=data, layout=layout)"
   ]
  },
  {
   "cell_type": "code",
   "execution_count": 221,
   "metadata": {
    "ExecuteTime": {
     "end_time": "2019-01-18T18:26:20.339626Z",
     "start_time": "2019-01-18T18:26:18.475958Z"
    }
   },
   "outputs": [
    {
     "name": "stdout",
     "output_type": "stream",
     "text": [
      "High five! You successfully sent some data to your account on plotly. View your plot in your browser at https://plot.ly/~keryums/0 or inside your plot.ly account where it is named 'd3-choropleth-map'\n"
     ]
    },
    {
     "data": {
      "text/html": [
       "<iframe id=\"igraph\" scrolling=\"no\" style=\"border:none;\" seamless=\"seamless\" src=\"https://plot.ly/~keryums/0.embed\" height=\"525px\" width=\"100%\"></iframe>"
      ],
      "text/plain": [
       "<plotly.tools.PlotlyDisplay object>"
      ]
     },
     "execution_count": 221,
     "metadata": {},
     "output_type": "execute_result"
    }
   ],
   "source": [
    "py.iplot(fig, filename='d3-choropleth-map')"
   ]
  },
  {
   "cell_type": "markdown",
   "metadata": {},
   "source": [
    "Vermont has the highest suicide rate of .0025%, 1.3% higher than the next highest states Montana, Nevada, and Wyoming, which each come in at 0.0019%. Notice that the western US generally has higher rates than the eastern US. Could higher rates be associated with worse VA facilities in those areas? \n",
    "\n",
    "Let's analyze some VA expenditure data:"
   ]
  },
  {
   "cell_type": "markdown",
   "metadata": {},
   "source": [
    "## Expenditure Data"
   ]
  },
  {
   "cell_type": "code",
   "execution_count": 201,
   "metadata": {
    "ExecuteTime": {
     "end_time": "2019-01-18T00:09:31.511556Z",
     "start_time": "2019-01-18T00:09:31.469646Z"
    }
   },
   "outputs": [
    {
     "ename": "FileNotFoundError",
     "evalue": "File b'/Users/kerong/data/veteran_suicide/data_out/va_spend_2016_20190114_2148.csv' does not exist",
     "output_type": "error",
     "traceback": [
      "\u001b[0;31m---------------------------------------------------------------------------\u001b[0m",
      "\u001b[0;31mFileNotFoundError\u001b[0m                         Traceback (most recent call last)",
      "\u001b[0;32m<ipython-input-201-c10f8b4374c9>\u001b[0m in \u001b[0;36m<module>\u001b[0;34m\u001b[0m\n\u001b[0;32m----> 1\u001b[0;31m \u001b[0mva_spend_2016\u001b[0m \u001b[0;34m=\u001b[0m \u001b[0mpd\u001b[0m\u001b[0;34m.\u001b[0m\u001b[0mread_csv\u001b[0m\u001b[0;34m(\u001b[0m\u001b[0mdata_filepath\u001b[0m\u001b[0;34m+\u001b[0m\u001b[0;34m'va_spend_2016_20190114_2148.csv'\u001b[0m\u001b[0;34m)\u001b[0m\u001b[0;34m\u001b[0m\u001b[0;34m\u001b[0m\u001b[0m\n\u001b[0m",
      "\u001b[0;32m~/anaconda3/lib/python3.6/site-packages/pandas/io/parsers.py\u001b[0m in \u001b[0;36mparser_f\u001b[0;34m(filepath_or_buffer, sep, delimiter, header, names, index_col, usecols, squeeze, prefix, mangle_dupe_cols, dtype, engine, converters, true_values, false_values, skipinitialspace, skiprows, nrows, na_values, keep_default_na, na_filter, verbose, skip_blank_lines, parse_dates, infer_datetime_format, keep_date_col, date_parser, dayfirst, iterator, chunksize, compression, thousands, decimal, lineterminator, quotechar, quoting, escapechar, comment, encoding, dialect, tupleize_cols, error_bad_lines, warn_bad_lines, skipfooter, doublequote, delim_whitespace, low_memory, memory_map, float_precision)\u001b[0m\n\u001b[1;32m    676\u001b[0m                     skip_blank_lines=skip_blank_lines)\n\u001b[1;32m    677\u001b[0m \u001b[0;34m\u001b[0m\u001b[0m\n\u001b[0;32m--> 678\u001b[0;31m         \u001b[0;32mreturn\u001b[0m \u001b[0m_read\u001b[0m\u001b[0;34m(\u001b[0m\u001b[0mfilepath_or_buffer\u001b[0m\u001b[0;34m,\u001b[0m \u001b[0mkwds\u001b[0m\u001b[0;34m)\u001b[0m\u001b[0;34m\u001b[0m\u001b[0;34m\u001b[0m\u001b[0m\n\u001b[0m\u001b[1;32m    679\u001b[0m \u001b[0;34m\u001b[0m\u001b[0m\n\u001b[1;32m    680\u001b[0m     \u001b[0mparser_f\u001b[0m\u001b[0;34m.\u001b[0m\u001b[0m__name__\u001b[0m \u001b[0;34m=\u001b[0m \u001b[0mname\u001b[0m\u001b[0;34m\u001b[0m\u001b[0;34m\u001b[0m\u001b[0m\n",
      "\u001b[0;32m~/anaconda3/lib/python3.6/site-packages/pandas/io/parsers.py\u001b[0m in \u001b[0;36m_read\u001b[0;34m(filepath_or_buffer, kwds)\u001b[0m\n\u001b[1;32m    438\u001b[0m \u001b[0;34m\u001b[0m\u001b[0m\n\u001b[1;32m    439\u001b[0m     \u001b[0;31m# Create the parser.\u001b[0m\u001b[0;34m\u001b[0m\u001b[0;34m\u001b[0m\u001b[0;34m\u001b[0m\u001b[0m\n\u001b[0;32m--> 440\u001b[0;31m     \u001b[0mparser\u001b[0m \u001b[0;34m=\u001b[0m \u001b[0mTextFileReader\u001b[0m\u001b[0;34m(\u001b[0m\u001b[0mfilepath_or_buffer\u001b[0m\u001b[0;34m,\u001b[0m \u001b[0;34m**\u001b[0m\u001b[0mkwds\u001b[0m\u001b[0;34m)\u001b[0m\u001b[0;34m\u001b[0m\u001b[0;34m\u001b[0m\u001b[0m\n\u001b[0m\u001b[1;32m    441\u001b[0m \u001b[0;34m\u001b[0m\u001b[0m\n\u001b[1;32m    442\u001b[0m     \u001b[0;32mif\u001b[0m \u001b[0mchunksize\u001b[0m \u001b[0;32mor\u001b[0m \u001b[0miterator\u001b[0m\u001b[0;34m:\u001b[0m\u001b[0;34m\u001b[0m\u001b[0;34m\u001b[0m\u001b[0m\n",
      "\u001b[0;32m~/anaconda3/lib/python3.6/site-packages/pandas/io/parsers.py\u001b[0m in \u001b[0;36m__init__\u001b[0;34m(self, f, engine, **kwds)\u001b[0m\n\u001b[1;32m    785\u001b[0m             \u001b[0mself\u001b[0m\u001b[0;34m.\u001b[0m\u001b[0moptions\u001b[0m\u001b[0;34m[\u001b[0m\u001b[0;34m'has_index_names'\u001b[0m\u001b[0;34m]\u001b[0m \u001b[0;34m=\u001b[0m \u001b[0mkwds\u001b[0m\u001b[0;34m[\u001b[0m\u001b[0;34m'has_index_names'\u001b[0m\u001b[0;34m]\u001b[0m\u001b[0;34m\u001b[0m\u001b[0;34m\u001b[0m\u001b[0m\n\u001b[1;32m    786\u001b[0m \u001b[0;34m\u001b[0m\u001b[0m\n\u001b[0;32m--> 787\u001b[0;31m         \u001b[0mself\u001b[0m\u001b[0;34m.\u001b[0m\u001b[0m_make_engine\u001b[0m\u001b[0;34m(\u001b[0m\u001b[0mself\u001b[0m\u001b[0;34m.\u001b[0m\u001b[0mengine\u001b[0m\u001b[0;34m)\u001b[0m\u001b[0;34m\u001b[0m\u001b[0;34m\u001b[0m\u001b[0m\n\u001b[0m\u001b[1;32m    788\u001b[0m \u001b[0;34m\u001b[0m\u001b[0m\n\u001b[1;32m    789\u001b[0m     \u001b[0;32mdef\u001b[0m \u001b[0mclose\u001b[0m\u001b[0;34m(\u001b[0m\u001b[0mself\u001b[0m\u001b[0;34m)\u001b[0m\u001b[0;34m:\u001b[0m\u001b[0;34m\u001b[0m\u001b[0;34m\u001b[0m\u001b[0m\n",
      "\u001b[0;32m~/anaconda3/lib/python3.6/site-packages/pandas/io/parsers.py\u001b[0m in \u001b[0;36m_make_engine\u001b[0;34m(self, engine)\u001b[0m\n\u001b[1;32m   1012\u001b[0m     \u001b[0;32mdef\u001b[0m \u001b[0m_make_engine\u001b[0m\u001b[0;34m(\u001b[0m\u001b[0mself\u001b[0m\u001b[0;34m,\u001b[0m \u001b[0mengine\u001b[0m\u001b[0;34m=\u001b[0m\u001b[0;34m'c'\u001b[0m\u001b[0;34m)\u001b[0m\u001b[0;34m:\u001b[0m\u001b[0;34m\u001b[0m\u001b[0;34m\u001b[0m\u001b[0m\n\u001b[1;32m   1013\u001b[0m         \u001b[0;32mif\u001b[0m \u001b[0mengine\u001b[0m \u001b[0;34m==\u001b[0m \u001b[0;34m'c'\u001b[0m\u001b[0;34m:\u001b[0m\u001b[0;34m\u001b[0m\u001b[0;34m\u001b[0m\u001b[0m\n\u001b[0;32m-> 1014\u001b[0;31m             \u001b[0mself\u001b[0m\u001b[0;34m.\u001b[0m\u001b[0m_engine\u001b[0m \u001b[0;34m=\u001b[0m \u001b[0mCParserWrapper\u001b[0m\u001b[0;34m(\u001b[0m\u001b[0mself\u001b[0m\u001b[0;34m.\u001b[0m\u001b[0mf\u001b[0m\u001b[0;34m,\u001b[0m \u001b[0;34m**\u001b[0m\u001b[0mself\u001b[0m\u001b[0;34m.\u001b[0m\u001b[0moptions\u001b[0m\u001b[0;34m)\u001b[0m\u001b[0;34m\u001b[0m\u001b[0;34m\u001b[0m\u001b[0m\n\u001b[0m\u001b[1;32m   1015\u001b[0m         \u001b[0;32melse\u001b[0m\u001b[0;34m:\u001b[0m\u001b[0;34m\u001b[0m\u001b[0;34m\u001b[0m\u001b[0m\n\u001b[1;32m   1016\u001b[0m             \u001b[0;32mif\u001b[0m \u001b[0mengine\u001b[0m \u001b[0;34m==\u001b[0m \u001b[0;34m'python'\u001b[0m\u001b[0;34m:\u001b[0m\u001b[0;34m\u001b[0m\u001b[0;34m\u001b[0m\u001b[0m\n",
      "\u001b[0;32m~/anaconda3/lib/python3.6/site-packages/pandas/io/parsers.py\u001b[0m in \u001b[0;36m__init__\u001b[0;34m(self, src, **kwds)\u001b[0m\n\u001b[1;32m   1706\u001b[0m         \u001b[0mkwds\u001b[0m\u001b[0;34m[\u001b[0m\u001b[0;34m'usecols'\u001b[0m\u001b[0;34m]\u001b[0m \u001b[0;34m=\u001b[0m \u001b[0mself\u001b[0m\u001b[0;34m.\u001b[0m\u001b[0musecols\u001b[0m\u001b[0;34m\u001b[0m\u001b[0;34m\u001b[0m\u001b[0m\n\u001b[1;32m   1707\u001b[0m \u001b[0;34m\u001b[0m\u001b[0m\n\u001b[0;32m-> 1708\u001b[0;31m         \u001b[0mself\u001b[0m\u001b[0;34m.\u001b[0m\u001b[0m_reader\u001b[0m \u001b[0;34m=\u001b[0m \u001b[0mparsers\u001b[0m\u001b[0;34m.\u001b[0m\u001b[0mTextReader\u001b[0m\u001b[0;34m(\u001b[0m\u001b[0msrc\u001b[0m\u001b[0;34m,\u001b[0m \u001b[0;34m**\u001b[0m\u001b[0mkwds\u001b[0m\u001b[0;34m)\u001b[0m\u001b[0;34m\u001b[0m\u001b[0;34m\u001b[0m\u001b[0m\n\u001b[0m\u001b[1;32m   1709\u001b[0m \u001b[0;34m\u001b[0m\u001b[0m\n\u001b[1;32m   1710\u001b[0m         \u001b[0mpassed_names\u001b[0m \u001b[0;34m=\u001b[0m \u001b[0mself\u001b[0m\u001b[0;34m.\u001b[0m\u001b[0mnames\u001b[0m \u001b[0;32mis\u001b[0m \u001b[0;32mNone\u001b[0m\u001b[0;34m\u001b[0m\u001b[0;34m\u001b[0m\u001b[0m\n",
      "\u001b[0;32mpandas/_libs/parsers.pyx\u001b[0m in \u001b[0;36mpandas._libs.parsers.TextReader.__cinit__\u001b[0;34m()\u001b[0m\n",
      "\u001b[0;32mpandas/_libs/parsers.pyx\u001b[0m in \u001b[0;36mpandas._libs.parsers.TextReader._setup_parser_source\u001b[0;34m()\u001b[0m\n",
      "\u001b[0;31mFileNotFoundError\u001b[0m: File b'/Users/kerong/data/veteran_suicide/data_out/va_spend_2016_20190114_2148.csv' does not exist"
     ]
    }
   ],
   "source": [
    "va_spend_2016 = pd.read_csv(data_filepath+'va_spend_2016_20190114_2148.csv')"
   ]
  },
  {
   "cell_type": "code",
   "execution_count": 124,
   "metadata": {
    "ExecuteTime": {
     "end_time": "2019-01-15T03:50:56.034912Z",
     "start_time": "2019-01-15T03:50:56.020653Z"
    },
    "scrolled": true
   },
   "outputs": [
    {
     "data": {
      "text/html": [
       "<div>\n",
       "<style scoped>\n",
       "    .dataframe tbody tr th:only-of-type {\n",
       "        vertical-align: middle;\n",
       "    }\n",
       "\n",
       "    .dataframe tbody tr th {\n",
       "        vertical-align: top;\n",
       "    }\n",
       "\n",
       "    .dataframe thead th {\n",
       "        text-align: right;\n",
       "    }\n",
       "</style>\n",
       "<table border=\"1\" class=\"dataframe\">\n",
       "  <thead>\n",
       "    <tr style=\"text-align: right;\">\n",
       "      <th></th>\n",
       "      <th>state</th>\n",
       "      <th>veteran_population</th>\n",
       "      <th>total_expenditure</th>\n",
       "      <th>compensation_&amp;_pension</th>\n",
       "      <th>construction</th>\n",
       "      <th>education_&amp;_vocational_rehabilitation_employment</th>\n",
       "      <th>loan_guaranty</th>\n",
       "      <th>general_operating_expenses</th>\n",
       "      <th>insurance_&amp;_indemnities</th>\n",
       "      <th>medical_care</th>\n",
       "      <th>unique_patients</th>\n",
       "    </tr>\n",
       "  </thead>\n",
       "  <tbody>\n",
       "    <tr>\n",
       "      <th>0</th>\n",
       "      <td>Alabama</td>\n",
       "      <td>373761.35</td>\n",
       "      <td>3429322.81</td>\n",
       "      <td>2062094.31</td>\n",
       "      <td>2559.63</td>\n",
       "      <td>219849.80</td>\n",
       "      <td>0.0</td>\n",
       "      <td>38702.80</td>\n",
       "      <td>25449.49</td>\n",
       "      <td>1080666.78</td>\n",
       "      <td>112993.0</td>\n",
       "    </tr>\n",
       "    <tr>\n",
       "      <th>1</th>\n",
       "      <td>Alaska</td>\n",
       "      <td>68436.26</td>\n",
       "      <td>639118.75</td>\n",
       "      <td>280603.31</td>\n",
       "      <td>498.07</td>\n",
       "      <td>76517.96</td>\n",
       "      <td>0.0</td>\n",
       "      <td>26627.27</td>\n",
       "      <td>2347.29</td>\n",
       "      <td>252524.85</td>\n",
       "      <td>20037.0</td>\n",
       "    </tr>\n",
       "    <tr>\n",
       "      <th>2</th>\n",
       "      <td>Arizona</td>\n",
       "      <td>515050.15</td>\n",
       "      <td>3919748.59</td>\n",
       "      <td>1833525.23</td>\n",
       "      <td>26069.14</td>\n",
       "      <td>386087.44</td>\n",
       "      <td>0.0</td>\n",
       "      <td>69949.70</td>\n",
       "      <td>36076.08</td>\n",
       "      <td>1568041.00</td>\n",
       "      <td>151910.0</td>\n",
       "    </tr>\n",
       "    <tr>\n",
       "      <th>3</th>\n",
       "      <td>Arkansas</td>\n",
       "      <td>225117.59</td>\n",
       "      <td>2215940.44</td>\n",
       "      <td>1129084.13</td>\n",
       "      <td>13395.87</td>\n",
       "      <td>89670.25</td>\n",
       "      <td>0.0</td>\n",
       "      <td>28243.81</td>\n",
       "      <td>14433.29</td>\n",
       "      <td>941113.09</td>\n",
       "      <td>86483.0</td>\n",
       "    </tr>\n",
       "    <tr>\n",
       "      <th>4</th>\n",
       "      <td>California</td>\n",
       "      <td>1735212.60</td>\n",
       "      <td>15568594.92</td>\n",
       "      <td>7252271.47</td>\n",
       "      <td>171912.75</td>\n",
       "      <td>1861299.79</td>\n",
       "      <td>0.0</td>\n",
       "      <td>196187.34</td>\n",
       "      <td>153142.88</td>\n",
       "      <td>5933780.68</td>\n",
       "      <td>466638.0</td>\n",
       "    </tr>\n",
       "  </tbody>\n",
       "</table>\n",
       "</div>"
      ],
      "text/plain": [
       "        state  veteran_population  total_expenditure  compensation_&_pension  \\\n",
       "0     Alabama           373761.35         3429322.81              2062094.31   \n",
       "1      Alaska            68436.26          639118.75               280603.31   \n",
       "2     Arizona           515050.15         3919748.59              1833525.23   \n",
       "3    Arkansas           225117.59         2215940.44              1129084.13   \n",
       "4  California          1735212.60        15568594.92              7252271.47   \n",
       "\n",
       "   construction  education_&_vocational_rehabilitation_employment  \\\n",
       "0       2559.63                                         219849.80   \n",
       "1        498.07                                          76517.96   \n",
       "2      26069.14                                         386087.44   \n",
       "3      13395.87                                          89670.25   \n",
       "4     171912.75                                        1861299.79   \n",
       "\n",
       "   loan_guaranty  general_operating_expenses  insurance_&_indemnities  \\\n",
       "0            0.0                    38702.80                 25449.49   \n",
       "1            0.0                    26627.27                  2347.29   \n",
       "2            0.0                    69949.70                 36076.08   \n",
       "3            0.0                    28243.81                 14433.29   \n",
       "4            0.0                   196187.34                153142.88   \n",
       "\n",
       "   medical_care  unique_patients  \n",
       "0    1080666.78         112993.0  \n",
       "1     252524.85          20037.0  \n",
       "2    1568041.00         151910.0  \n",
       "3     941113.09          86483.0  \n",
       "4    5933780.68         466638.0  "
      ]
     },
     "metadata": {},
     "output_type": "display_data"
    }
   ],
   "source": [
    "display_all(va_spend_2016.head())"
   ]
  },
  {
   "cell_type": "markdown",
   "metadata": {},
   "source": [
    "Let's normalize total expenditure by number of patients:"
   ]
  },
  {
   "cell_type": "code",
   "execution_count": 132,
   "metadata": {
    "ExecuteTime": {
     "end_time": "2019-01-15T03:57:22.220042Z",
     "start_time": "2019-01-15T03:57:22.216511Z"
    }
   },
   "outputs": [],
   "source": [
    "va_spend_2016['total_spend_per_vet'] = va_spend_2016.total_expenditure/va_spend_2016.veteran_population"
   ]
  },
  {
   "cell_type": "code",
   "execution_count": 127,
   "metadata": {
    "ExecuteTime": {
     "end_time": "2019-01-15T03:51:48.885407Z",
     "start_time": "2019-01-15T03:51:48.881688Z"
    }
   },
   "outputs": [],
   "source": [
    "va_spend_2016['total_spend_per_patient'] = va_spend_2016.total_expenditure/va_spend_2016.unique_patients"
   ]
  },
  {
   "cell_type": "code",
   "execution_count": 133,
   "metadata": {
    "ExecuteTime": {
     "end_time": "2019-01-15T03:57:24.017611Z",
     "start_time": "2019-01-15T03:57:24.001986Z"
    },
    "scrolled": false
   },
   "outputs": [
    {
     "data": {
      "text/html": [
       "<div>\n",
       "<style scoped>\n",
       "    .dataframe tbody tr th:only-of-type {\n",
       "        vertical-align: middle;\n",
       "    }\n",
       "\n",
       "    .dataframe tbody tr th {\n",
       "        vertical-align: top;\n",
       "    }\n",
       "\n",
       "    .dataframe thead th {\n",
       "        text-align: right;\n",
       "    }\n",
       "</style>\n",
       "<table border=\"1\" class=\"dataframe\">\n",
       "  <thead>\n",
       "    <tr style=\"text-align: right;\">\n",
       "      <th></th>\n",
       "      <th>state</th>\n",
       "      <th>veteran_population</th>\n",
       "      <th>total_expenditure</th>\n",
       "      <th>compensation_&amp;_pension</th>\n",
       "      <th>construction</th>\n",
       "      <th>education_&amp;_vocational_rehabilitation_employment</th>\n",
       "      <th>loan_guaranty</th>\n",
       "      <th>general_operating_expenses</th>\n",
       "      <th>insurance_&amp;_indemnities</th>\n",
       "      <th>medical_care</th>\n",
       "      <th>unique_patients</th>\n",
       "      <th>total_spend_per_patient</th>\n",
       "      <th>total_spend_per_vet</th>\n",
       "    </tr>\n",
       "  </thead>\n",
       "  <tbody>\n",
       "    <tr>\n",
       "      <th>0</th>\n",
       "      <td>Alabama</td>\n",
       "      <td>373761.35</td>\n",
       "      <td>3429322.81</td>\n",
       "      <td>2062094.31</td>\n",
       "      <td>2559.63</td>\n",
       "      <td>219849.80</td>\n",
       "      <td>0.0</td>\n",
       "      <td>38702.80</td>\n",
       "      <td>25449.49</td>\n",
       "      <td>1080666.78</td>\n",
       "      <td>112993.0</td>\n",
       "      <td>30.349870</td>\n",
       "      <td>9.175167</td>\n",
       "    </tr>\n",
       "    <tr>\n",
       "      <th>1</th>\n",
       "      <td>Alaska</td>\n",
       "      <td>68436.26</td>\n",
       "      <td>639118.75</td>\n",
       "      <td>280603.31</td>\n",
       "      <td>498.07</td>\n",
       "      <td>76517.96</td>\n",
       "      <td>0.0</td>\n",
       "      <td>26627.27</td>\n",
       "      <td>2347.29</td>\n",
       "      <td>252524.85</td>\n",
       "      <td>20037.0</td>\n",
       "      <td>31.896928</td>\n",
       "      <td>9.338891</td>\n",
       "    </tr>\n",
       "    <tr>\n",
       "      <th>2</th>\n",
       "      <td>Arizona</td>\n",
       "      <td>515050.15</td>\n",
       "      <td>3919748.59</td>\n",
       "      <td>1833525.23</td>\n",
       "      <td>26069.14</td>\n",
       "      <td>386087.44</td>\n",
       "      <td>0.0</td>\n",
       "      <td>69949.70</td>\n",
       "      <td>36076.08</td>\n",
       "      <td>1568041.00</td>\n",
       "      <td>151910.0</td>\n",
       "      <td>25.803098</td>\n",
       "      <td>7.610421</td>\n",
       "    </tr>\n",
       "    <tr>\n",
       "      <th>3</th>\n",
       "      <td>Arkansas</td>\n",
       "      <td>225117.59</td>\n",
       "      <td>2215940.44</td>\n",
       "      <td>1129084.13</td>\n",
       "      <td>13395.87</td>\n",
       "      <td>89670.25</td>\n",
       "      <td>0.0</td>\n",
       "      <td>28243.81</td>\n",
       "      <td>14433.29</td>\n",
       "      <td>941113.09</td>\n",
       "      <td>86483.0</td>\n",
       "      <td>25.622844</td>\n",
       "      <td>9.843480</td>\n",
       "    </tr>\n",
       "    <tr>\n",
       "      <th>4</th>\n",
       "      <td>California</td>\n",
       "      <td>1735212.60</td>\n",
       "      <td>15568594.92</td>\n",
       "      <td>7252271.47</td>\n",
       "      <td>171912.75</td>\n",
       "      <td>1861299.79</td>\n",
       "      <td>0.0</td>\n",
       "      <td>196187.34</td>\n",
       "      <td>153142.88</td>\n",
       "      <td>5933780.68</td>\n",
       "      <td>466638.0</td>\n",
       "      <td>33.363324</td>\n",
       "      <td>8.972154</td>\n",
       "    </tr>\n",
       "  </tbody>\n",
       "</table>\n",
       "</div>"
      ],
      "text/plain": [
       "        state  veteran_population  total_expenditure  compensation_&_pension  \\\n",
       "0     Alabama           373761.35         3429322.81              2062094.31   \n",
       "1      Alaska            68436.26          639118.75               280603.31   \n",
       "2     Arizona           515050.15         3919748.59              1833525.23   \n",
       "3    Arkansas           225117.59         2215940.44              1129084.13   \n",
       "4  California          1735212.60        15568594.92              7252271.47   \n",
       "\n",
       "   construction  education_&_vocational_rehabilitation_employment  \\\n",
       "0       2559.63                                         219849.80   \n",
       "1        498.07                                          76517.96   \n",
       "2      26069.14                                         386087.44   \n",
       "3      13395.87                                          89670.25   \n",
       "4     171912.75                                        1861299.79   \n",
       "\n",
       "   loan_guaranty  general_operating_expenses  insurance_&_indemnities  \\\n",
       "0            0.0                    38702.80                 25449.49   \n",
       "1            0.0                    26627.27                  2347.29   \n",
       "2            0.0                    69949.70                 36076.08   \n",
       "3            0.0                    28243.81                 14433.29   \n",
       "4            0.0                   196187.34                153142.88   \n",
       "\n",
       "   medical_care  unique_patients  total_spend_per_patient  total_spend_per_vet  \n",
       "0    1080666.78         112993.0                30.349870             9.175167  \n",
       "1     252524.85          20037.0                31.896928             9.338891  \n",
       "2    1568041.00         151910.0                25.803098             7.610421  \n",
       "3     941113.09          86483.0                25.622844             9.843480  \n",
       "4    5933780.68         466638.0                33.363324             8.972154  "
      ]
     },
     "execution_count": 133,
     "metadata": {},
     "output_type": "execute_result"
    }
   ],
   "source": [
    "va_spend_2016.head()"
   ]
  },
  {
   "cell_type": "code",
   "execution_count": 143,
   "metadata": {
    "ExecuteTime": {
     "end_time": "2019-01-15T04:02:28.743244Z",
     "start_time": "2019-01-15T04:02:28.738480Z"
    }
   },
   "outputs": [],
   "source": [
    "va_spend_2016.loc[va_spend_2016['state'] == 'District of Columbia', 'state']  = 'District Of Columbia' #change to match dictionary"
   ]
  },
  {
   "cell_type": "code",
   "execution_count": 147,
   "metadata": {
    "ExecuteTime": {
     "end_time": "2019-01-15T04:02:56.267689Z",
     "start_time": "2019-01-15T04:02:56.264317Z"
    }
   },
   "outputs": [],
   "source": [
    "va_spend_2016 = va_spend_2016[~va_spend_2016.state.isin(['Puerto Rico', 'Guam'])] #exclude from this analysis "
   ]
  },
  {
   "cell_type": "code",
   "execution_count": 150,
   "metadata": {
    "ExecuteTime": {
     "end_time": "2019-01-15T04:03:17.628389Z",
     "start_time": "2019-01-15T04:03:17.624764Z"
    }
   },
   "outputs": [],
   "source": [
    "va_spend_2016['state_code'] = va_spend_2016.state.apply(lambda x : state_codes[x])"
   ]
  },
  {
   "cell_type": "code",
   "execution_count": 154,
   "metadata": {
    "ExecuteTime": {
     "end_time": "2019-01-15T04:05:01.202408Z",
     "start_time": "2019-01-15T04:05:01.187565Z"
    },
    "scrolled": false
   },
   "outputs": [
    {
     "data": {
      "text/html": [
       "<div>\n",
       "<style scoped>\n",
       "    .dataframe tbody tr th:only-of-type {\n",
       "        vertical-align: middle;\n",
       "    }\n",
       "\n",
       "    .dataframe tbody tr th {\n",
       "        vertical-align: top;\n",
       "    }\n",
       "\n",
       "    .dataframe thead th {\n",
       "        text-align: right;\n",
       "    }\n",
       "</style>\n",
       "<table border=\"1\" class=\"dataframe\">\n",
       "  <thead>\n",
       "    <tr style=\"text-align: right;\">\n",
       "      <th></th>\n",
       "      <th>state</th>\n",
       "      <th>veteran_population</th>\n",
       "      <th>total_expenditure</th>\n",
       "      <th>compensation_&amp;_pension</th>\n",
       "      <th>construction</th>\n",
       "      <th>education_&amp;_vocational_rehabilitation_employment</th>\n",
       "      <th>loan_guaranty</th>\n",
       "      <th>general_operating_expenses</th>\n",
       "      <th>insurance_&amp;_indemnities</th>\n",
       "      <th>medical_care</th>\n",
       "      <th>unique_patients</th>\n",
       "      <th>total_spend_per_patient</th>\n",
       "      <th>total_spend_per_vet</th>\n",
       "      <th>state_code</th>\n",
       "    </tr>\n",
       "  </thead>\n",
       "  <tbody>\n",
       "    <tr>\n",
       "      <th>0</th>\n",
       "      <td>Alabama</td>\n",
       "      <td>373761.35</td>\n",
       "      <td>3429322.81</td>\n",
       "      <td>2062094.31</td>\n",
       "      <td>2559.63</td>\n",
       "      <td>219849.80</td>\n",
       "      <td>0.0</td>\n",
       "      <td>38702.80</td>\n",
       "      <td>25449.49</td>\n",
       "      <td>1080666.78</td>\n",
       "      <td>112993.0</td>\n",
       "      <td>30.349870</td>\n",
       "      <td>9.175167</td>\n",
       "      <td>AL</td>\n",
       "    </tr>\n",
       "    <tr>\n",
       "      <th>1</th>\n",
       "      <td>Alaska</td>\n",
       "      <td>68436.26</td>\n",
       "      <td>639118.75</td>\n",
       "      <td>280603.31</td>\n",
       "      <td>498.07</td>\n",
       "      <td>76517.96</td>\n",
       "      <td>0.0</td>\n",
       "      <td>26627.27</td>\n",
       "      <td>2347.29</td>\n",
       "      <td>252524.85</td>\n",
       "      <td>20037.0</td>\n",
       "      <td>31.896928</td>\n",
       "      <td>9.338891</td>\n",
       "      <td>AK</td>\n",
       "    </tr>\n",
       "    <tr>\n",
       "      <th>2</th>\n",
       "      <td>Arizona</td>\n",
       "      <td>515050.15</td>\n",
       "      <td>3919748.59</td>\n",
       "      <td>1833525.23</td>\n",
       "      <td>26069.14</td>\n",
       "      <td>386087.44</td>\n",
       "      <td>0.0</td>\n",
       "      <td>69949.70</td>\n",
       "      <td>36076.08</td>\n",
       "      <td>1568041.00</td>\n",
       "      <td>151910.0</td>\n",
       "      <td>25.803098</td>\n",
       "      <td>7.610421</td>\n",
       "      <td>AZ</td>\n",
       "    </tr>\n",
       "    <tr>\n",
       "      <th>3</th>\n",
       "      <td>Arkansas</td>\n",
       "      <td>225117.59</td>\n",
       "      <td>2215940.44</td>\n",
       "      <td>1129084.13</td>\n",
       "      <td>13395.87</td>\n",
       "      <td>89670.25</td>\n",
       "      <td>0.0</td>\n",
       "      <td>28243.81</td>\n",
       "      <td>14433.29</td>\n",
       "      <td>941113.09</td>\n",
       "      <td>86483.0</td>\n",
       "      <td>25.622844</td>\n",
       "      <td>9.843480</td>\n",
       "      <td>AR</td>\n",
       "    </tr>\n",
       "    <tr>\n",
       "      <th>4</th>\n",
       "      <td>California</td>\n",
       "      <td>1735212.60</td>\n",
       "      <td>15568594.92</td>\n",
       "      <td>7252271.47</td>\n",
       "      <td>171912.75</td>\n",
       "      <td>1861299.79</td>\n",
       "      <td>0.0</td>\n",
       "      <td>196187.34</td>\n",
       "      <td>153142.88</td>\n",
       "      <td>5933780.68</td>\n",
       "      <td>466638.0</td>\n",
       "      <td>33.363324</td>\n",
       "      <td>8.972154</td>\n",
       "      <td>CA</td>\n",
       "    </tr>\n",
       "  </tbody>\n",
       "</table>\n",
       "</div>"
      ],
      "text/plain": [
       "        state  veteran_population  total_expenditure  compensation_&_pension  \\\n",
       "0     Alabama           373761.35         3429322.81              2062094.31   \n",
       "1      Alaska            68436.26          639118.75               280603.31   \n",
       "2     Arizona           515050.15         3919748.59              1833525.23   \n",
       "3    Arkansas           225117.59         2215940.44              1129084.13   \n",
       "4  California          1735212.60        15568594.92              7252271.47   \n",
       "\n",
       "   construction  education_&_vocational_rehabilitation_employment  \\\n",
       "0       2559.63                                         219849.80   \n",
       "1        498.07                                          76517.96   \n",
       "2      26069.14                                         386087.44   \n",
       "3      13395.87                                          89670.25   \n",
       "4     171912.75                                        1861299.79   \n",
       "\n",
       "   loan_guaranty  general_operating_expenses  insurance_&_indemnities  \\\n",
       "0            0.0                    38702.80                 25449.49   \n",
       "1            0.0                    26627.27                  2347.29   \n",
       "2            0.0                    69949.70                 36076.08   \n",
       "3            0.0                    28243.81                 14433.29   \n",
       "4            0.0                   196187.34                153142.88   \n",
       "\n",
       "   medical_care  unique_patients  total_spend_per_patient  \\\n",
       "0    1080666.78         112993.0                30.349870   \n",
       "1     252524.85          20037.0                31.896928   \n",
       "2    1568041.00         151910.0                25.803098   \n",
       "3     941113.09          86483.0                25.622844   \n",
       "4    5933780.68         466638.0                33.363324   \n",
       "\n",
       "   total_spend_per_vet state_code  \n",
       "0             9.175167         AL  \n",
       "1             9.338891         AK  \n",
       "2             7.610421         AZ  \n",
       "3             9.843480         AR  \n",
       "4             8.972154         CA  "
      ]
     },
     "execution_count": 154,
     "metadata": {},
     "output_type": "execute_result"
    }
   ],
   "source": [
    "va_spend_2016.head()"
   ]
  },
  {
   "cell_type": "code",
   "execution_count": 165,
   "metadata": {
    "ExecuteTime": {
     "end_time": "2019-01-15T15:54:12.278385Z",
     "start_time": "2019-01-15T15:54:12.273972Z"
    }
   },
   "outputs": [
    {
     "data": {
      "text/plain": [
       "array([ 30,  32,  26,  33,  35,  25,  27, 310,  36,  21,  22,  19,  24,\n",
       "        29,  23,  28,  34,  31,  37])"
      ]
     },
     "execution_count": 165,
     "metadata": {},
     "output_type": "execute_result"
    }
   ],
   "source": [
    "va_spend_2016.total_spend_per_patient.unique()"
   ]
  },
  {
   "cell_type": "code",
   "execution_count": 157,
   "metadata": {
    "ExecuteTime": {
     "end_time": "2019-01-15T04:06:49.495563Z",
     "start_time": "2019-01-15T04:06:49.491007Z"
    }
   },
   "outputs": [],
   "source": [
    "va_spend_2016.total_spend_per_patient = va_spend_2016.total_spend_per_patient.apply(lambda x : round(x))\n",
    "va_spend_2016.total_spend_per_vet = va_spend_2016.total_spend_per_vet.apply(lambda x : round(x))"
   ]
  },
  {
   "cell_type": "code",
   "execution_count": 161,
   "metadata": {
    "ExecuteTime": {
     "end_time": "2019-01-15T15:52:38.184781Z",
     "start_time": "2019-01-15T15:52:38.179554Z"
    }
   },
   "outputs": [
    {
     "data": {
      "text/plain": [
       "state                                                object\n",
       "veteran_population                                  float64\n",
       "total_expenditure                                   float64\n",
       "compensation_&_pension                              float64\n",
       "construction                                        float64\n",
       "education_&_vocational_rehabilitation_employment    float64\n",
       "loan_guaranty                                       float64\n",
       "general_operating_expenses                          float64\n",
       "insurance_&_indemnities                             float64\n",
       "medical_care                                        float64\n",
       "unique_patients                                     float64\n",
       "total_spend_per_patient                               int64\n",
       "total_spend_per_vet                                   int64\n",
       "state_code                                           object\n",
       "dtype: object"
      ]
     },
     "execution_count": 161,
     "metadata": {},
     "output_type": "execute_result"
    }
   ],
   "source": [
    "va_spend_2016.dtypes"
   ]
  },
  {
   "cell_type": "code",
   "execution_count": 166,
   "metadata": {
    "ExecuteTime": {
     "end_time": "2019-01-15T15:54:18.880792Z",
     "start_time": "2019-01-15T15:54:18.769580Z"
    }
   },
   "outputs": [
    {
     "data": {
      "text/html": [
       "<div style=\"width:100%;\"><div style=\"position:relative;width:100%;height:0;padding-bottom:60%;\"><iframe src=\"data:text/html;charset=utf-8;base64,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\" style=\"position:absolute;width:100%;height:100%;left:0;top:0;border:none !important;\" allowfullscreen webkitallowfullscreen mozallowfullscreen></iframe></div></div>"
      ],
      "text/plain": [
       "<folium.folium.Map at 0x1a203b4b00>"
      ]
     },
     "execution_count": 166,
     "metadata": {},
     "output_type": "execute_result"
    }
   ],
   "source": [
    "m = folium.Map(location=[48,-102], zoom_start=3)\n",
    "\n",
    "folium.Choropleth(geo_data=state_geo,\n",
    "             name='choropleth',\n",
    "             data=va_spend_2016,\n",
    "             columns=['state_code', 'total_spend_per_patient'],\n",
    "             key_on='feature.id',\n",
    "             fill_color='YlGn',\n",
    "             fill_opacity=0.7,\n",
    "             line_opacity=0.2,\n",
    "             legend_name='Total Spend per Patient').add_to(m)\n",
    "\n",
    "folium.LayerControl().add_to(m)\n",
    "\n",
    "m\n",
    "\n",
    "# TROUBLESHOOT NOT RENDERING COLOR FOR SPEND_PER_VET OR SPEND_PER_PATIENT"
   ]
  },
  {
   "cell_type": "code",
   "execution_count": null,
   "metadata": {},
   "outputs": [],
   "source": []
  },
  {
   "cell_type": "code",
   "execution_count": null,
   "metadata": {},
   "outputs": [],
   "source": []
  },
  {
   "cell_type": "code",
   "execution_count": null,
   "metadata": {},
   "outputs": [],
   "source": []
  },
  {
   "cell_type": "markdown",
   "metadata": {},
   "source": [
    "# Suicides by Age"
   ]
  },
  {
   "cell_type": "markdown",
   "metadata": {},
   "source": [
    "TO DO:\n",
    "* Remove '<' and '-' (ranges) from veteran_suicides and general_population_suicides \n",
    "* Remove '--', '*' from rate columns "
   ]
  },
  {
   "cell_type": "markdown",
   "metadata": {},
   "source": [
    "# Suicides by Method"
   ]
  },
  {
   "cell_type": "markdown",
   "metadata": {
    "ExecuteTime": {
     "end_time": "2019-01-07T23:47:43.193898Z",
     "start_time": "2019-01-07T23:47:43.189763Z"
    }
   },
   "source": [
    "TO DO:\n",
    "* Remove ',', '<', from suicides\n",
    "* Replace '--' from group_percentage "
   ]
  },
  {
   "cell_type": "code",
   "execution_count": null,
   "metadata": {},
   "outputs": [],
   "source": []
  }
 ],
 "metadata": {
  "kernelspec": {
   "display_name": "Python 3",
   "language": "python",
   "name": "python3"
  },
  "language_info": {
   "codemirror_mode": {
    "name": "ipython",
    "version": 3
   },
   "file_extension": ".py",
   "mimetype": "text/x-python",
   "name": "python",
   "nbconvert_exporter": "python",
   "pygments_lexer": "ipython3",
   "version": "3.6.7"
  },
  "toc": {
   "base_numbering": 1,
   "nav_menu": {},
   "number_sections": true,
   "sideBar": true,
   "skip_h1_title": false,
   "title_cell": "Table of Contents",
   "title_sidebar": "Contents",
   "toc_cell": false,
   "toc_position": {
    "height": "calc(100% - 180px)",
    "left": "10px",
    "top": "150px",
    "width": "336px"
   },
   "toc_section_display": true,
   "toc_window_display": true
  }
 },
 "nbformat": 4,
 "nbformat_minor": 2
}
